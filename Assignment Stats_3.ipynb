{
 "cells": [
  {
   "cell_type": "markdown",
   "metadata": {},
   "source": [
    "#### Problem Statement 1:\n",
    "Blood glucose levels for obese patients have a mean of 100 with a standard deviation of 15. A researcher thinks that a diet high in raw cornstarch will have a positive effect on blood glucose levels. A sample of 36 patients who have tried the raw cornstarch diet have a mean glucose level of 108. Test the hypothesis that the raw cornstarch had an\n",
    "effect or not."
   ]
  },
  {
   "cell_type": "code",
   "execution_count": 1,
   "metadata": {},
   "outputs": [
    {
     "name": "stdout",
     "output_type": "stream",
     "text": [
      "The computed value of Z is:  3.2\n",
      "The critical value for Z is:  1.959963984540054\n"
     ]
    }
   ],
   "source": [
    "import math\n",
    "from scipy.stats import norm\n",
    "pMean = 100 # populatin mean\n",
    "pStd = 15 # population standard deviation\n",
    "size_Sample = 36 # sample size\n",
    "sMean = 108 # sample mean\n",
    "\n",
    "SE = (pStd)/math.sqrt(size_Sample) # Standard error\n",
    "    \n",
    "def Z_test(sMean, pMean, SE):  # Z test calculation\n",
    "    Z_val = (sMean - pMean) / SE\n",
    "    return Z_val\n",
    "\n",
    "val = Z_test(sMean, pMean, SE)\n",
    "print('The computed value of Z is: ', val)\n",
    "\n",
    "# Now we need to find out the critical value for significance level 5% = 0.05 let say\n",
    "# So, Alpha = 0.05\n",
    "# As two-tailed test then, Alpha/2 = 0.025\n",
    "# probability = 1 - alpha/2 = 1-0.025 = 0.975\n",
    "# Gaussian Percent Point Function (ppf)\n",
    "# define probability\n",
    "p = 0.975\n",
    "# retrieve value <= probability\n",
    "value = norm.ppf(p)\n",
    "print('The critical value for Z is: ', value)\n"
   ]
  },
  {
   "cell_type": "markdown",
   "metadata": {},
   "source": [
    "#### Conclusion\n",
    "\n",
    "The criticial value of Z is: Z = +1.96 and -1.96 at 5% level of significance for two-tailed test.\n",
    "Our computed value of Z is: Z = 3.2.\n",
    "\n",
    "So, computed value falls in rejection region. Hence we reject the Null Hypothesis.\n",
    "Hence the raw cornstarch had an effect on blood glucose levels for obese patients."
   ]
  },
  {
   "cell_type": "markdown",
   "metadata": {},
   "source": [
    "#### Problem Statement 2:\n",
    "In one state, 52% of the voters are Republicans, and 48% are Democrats. In a second\n",
    "state, 47% of the voters are Republicans, and 53% are Democrats. Suppose a simple\n",
    "random sample of 100 voters are surveyed from each state.\n",
    "What is the probability that the survey will show a greater percentage of Republican\n",
    "voters in the second state than in the first state?"
   ]
  },
  {
   "cell_type": "code",
   "execution_count": 7,
   "metadata": {},
   "outputs": [
    {
     "name": "stdout",
     "output_type": "stream",
     "text": [
      "The probability that the survey will show a greater percentage of Republican voters in the second state than in the first state = 0.24\n"
     ]
    }
   ],
   "source": [
    "from scipy import stats\n",
    "n1 = 100\n",
    "p1 = 0.52\n",
    "\n",
    "n2 = 100\n",
    "p2 = 0.47\n",
    "\n",
    "se = ((p1*(1-p1) / n1) + (p2*(1-p2) / n2))**0.5\n",
    "\n",
    "z = (p1 - p2) / se\n",
    "prob = (stats.norm.cdf(z) if z<0 else 1-stats.norm.cdf(z))\n",
    "print(\"The probability that the survey will show a greater percentage of Republican voters in the second state than in the first state =\", round(prob, 2))"
   ]
  },
  {
   "cell_type": "markdown",
   "metadata": {},
   "source": [
    "#### Problem Statement 3:\n",
    "You take the SAT and score 1100. The mean score for the SAT is 1026 and the standard deviation is 209. How well did you score on the test compared to the average test taker?"
   ]
  },
  {
   "cell_type": "code",
   "execution_count": 9,
   "metadata": {},
   "outputs": [
    {
     "name": "stdout",
     "output_type": "stream",
     "text": [
      "So, percentage of the test takers scored below me:  63.835565843531896\n",
      "So, percentage of the test takers scored above me:  36.164434156468104\n"
     ]
    }
   ],
   "source": [
    "mu = 1026\n",
    "x = 1100\n",
    "sigma = 209\n",
    "\n",
    "z = (x-mu) / sigma\n",
    "value = norm.cdf(z) # returns %value of the test takers below the specified number\n",
    "print('So, percentage of the test takers scored below me: ', value*100)\n",
    "value1 = 1 - norm.cdf(z) # returns %value of the test takers below the specified number\n",
    "print('So, percentage of the test takers scored above me: ', value1*100)"
   ]
  },
  {
   "cell_type": "markdown",
   "metadata": {},
   "source": [
    "#### Conclusion:\n",
    "I did better than 63.84% test taker"
   ]
  },
  {
   "cell_type": "code",
   "execution_count": null,
   "metadata": {},
   "outputs": [],
   "source": []
  }
 ],
 "metadata": {
  "kernelspec": {
   "display_name": "Python 3",
   "language": "python",
   "name": "python3"
  },
  "language_info": {
   "codemirror_mode": {
    "name": "ipython",
    "version": 3
   },
   "file_extension": ".py",
   "mimetype": "text/x-python",
   "name": "python",
   "nbconvert_exporter": "python",
   "pygments_lexer": "ipython3",
   "version": "3.7.6"
  }
 },
 "nbformat": 4,
 "nbformat_minor": 2
}
