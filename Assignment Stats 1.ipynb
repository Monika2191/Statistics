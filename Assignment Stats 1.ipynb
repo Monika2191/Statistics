{
 "cells": [
  {
   "cell_type": "markdown",
   "metadata": {},
   "source": [
    "##### Calculate the mean, median, mode and standard deviation for the problem statements 1& 2."
   ]
  },
  {
   "cell_type": "markdown",
   "metadata": {},
   "source": [
    "##### Problem Statement 1:                                     \n",
    "The marks awarded for an assignment set for a Year 8 class of 20 students were as follows:                         \n",
    "6 7 5 7 7 8 7 6 9 7 4 10 6 8 8 9 5 6 4 8                                              "
   ]
  },
  {
   "cell_type": "code",
   "execution_count": 1,
   "metadata": {},
   "outputs": [
    {
     "name": "stdout",
     "output_type": "stream",
     "text": [
      "Length of list: 20\n",
      "Mean is : 6.85\n",
      "Median is : 7.0\n",
      "Mode is : ModeResult(mode=array([7]), count=array([5]))\n",
      "Standard Deviation is : 1.5898113095584647\n",
      "----------------------------------------------------------------------------------------------------\n"
     ]
    }
   ],
   "source": [
    "import numpy as np\n",
    "from scipy import stats\n",
    "num=[6,7, 5, 7, 7 ,8, 7, 6, 9, 7, 4, 10, 6, 8, 8, 9, 5, 6, 4, 8]\n",
    "print(\"Length of list:\",len(num))\n",
    "mean=np.mean(num)\n",
    "print(\"Mean is :\" ,mean)\n",
    "median=np.median(num)\n",
    "print(\"Median is :\" , median)\n",
    "mode=stats.mode(num)\n",
    "print(\"Mode is :\", mode)\n",
    "std = np.std(num)\n",
    "print(\"Standard Deviation is :\", std)\n",
    "print(\"--\"*50)"
   ]
  },
  {
   "cell_type": "markdown",
   "metadata": {},
   "source": [
    "###### Problem Statement 2:\n",
    "The number of calls from motorists per day for roadside service was recorded for a particular month:\n",
    "28, 122, 217, 130, 120, 86, 80, 90, 140, 120, 70, 40, 145, 113, 90, 68, 174, 194, 170,100, 75, 104, 97, 75,123, 100, 75, 104, 97, 75, 123, 100, 89, 120, 109"
   ]
  },
  {
   "cell_type": "code",
   "execution_count": 2,
   "metadata": {},
   "outputs": [
    {
     "name": "stdout",
     "output_type": "stream",
     "text": [
      "Length of list: 35\n",
      "Mean is : 107.51428571428572\n",
      "Median is : 100.0\n",
      "Mode is : ModeResult(mode=array([75]), count=array([4]))\n",
      "Standard Deviation is : 38.77287080168403\n",
      "----------------------------------------------------------------------------------------------------\n"
     ]
    }
   ],
   "source": [
    "Dataset=[28, 122, 217, 130, 120, 86, 80, 90, 140, 120, 70, 40, 145, 113, 90, 68, 174, 194, 170,100, 75, 104, 97, 75,123, 100, 75, 104, 97, 75, 123, 100, 89, 120, 109]\n",
    "\n",
    "mean=np.mean(Dataset)\n",
    "median=np.median(Dataset)\n",
    "mode=stats.mode(Dataset)\n",
    "std=np.std(Dataset)\n",
    "print(\"Length of list:\",len(Dataset))\n",
    "print(\"Mean is :\" ,mean)\n",
    "print(\"Median is :\",median)\n",
    "print(\"Mode is :\",mode)\n",
    "print(\"Standard Deviation is :\", std)\n",
    "print(\"--\"*50)"
   ]
  },
  {
   "cell_type": "markdown",
   "metadata": {},
   "source": [
    "##### Problem Statement 3:                                 \n",
    "The number of times I go to the gym in weekdays, are given below along with its associated probability:           \n",
    "x = 0, 1, 2, 3, 4, 5                                    \n",
    "f(x) = 0.09, 0.15, 0.40, 0.25, 0.10, 0.01                                  \n",
    "Calculate the mean no. of workouts in a week. Also evaluate the variance involved in it."
   ]
  },
  {
   "cell_type": "code",
   "execution_count": 3,
   "metadata": {},
   "outputs": [
    {
     "name": "stdout",
     "output_type": "stream",
     "text": [
      "The mean no. of workouts in a week:  2.15\n",
      "The Variance involved is : 1.2275\n"
     ]
    }
   ],
   "source": [
    "x =np.array([0, 1, 2, 3, 4, 5])                                 \n",
    "y =np.array([0.09, 0.15, 0.40, 0.25, 0.10, 0.01]) \n",
    "z=x*y\n",
    "def cal_avg(n):\n",
    "    Mu =0\n",
    "    for i in n:\n",
    "        Mu += i\n",
    "    return Mu\n",
    "    \n",
    "mean = cal_avg(z)\n",
    "print('The mean no. of workouts in a week: ', mean)\n",
    "\n",
    "def variance(x,y,mean):\n",
    "    var=0\n",
    "    for i in range(len(x)):\n",
    "        var +=(x[i]-mean)**2 * y[i]\n",
    "    return var\n",
    "var = variance(x,y,mean)\n",
    "\n",
    "print('The Variance involved is :',var)"
   ]
  },
  {
   "cell_type": "markdown",
   "metadata": {},
   "source": [
    "###### Problem Statement 4:\n",
    "Let the continuous random variable D denote the diameter of the hole drilled in an aluminum sheet. The target diameter to be achieved is 12.5mm. Random disturbances in the process often result in inaccuracy.\n",
    "Historical data shows that the distribution of D can be modelled by the PDF (d) = 20e−20(d−12.5), d ≥ 12.5. If a part with diameter > 12.6 mm needs to be scrapped,what is the proportion of those parts? What is the CDF when the diameter is of 11mm? What is your conclusion regarding the proportion of scraps?"
   ]
  },
  {
   "cell_type": "code",
   "execution_count": 4,
   "metadata": {},
   "outputs": [
    {
     "name": "stdout",
     "output_type": "stream",
     "text": [
      "The proportion of parts scrapped is 0.135335 \n"
     ]
    }
   ],
   "source": [
    "import math\n",
    "from math import exp\n",
    "from scipy.integrate import quad\n",
    "# function for PDF(d), this will calculate the PDF value for the given 'd'\n",
    "def PDF(d):\n",
    "    return 20*exp(-20*(d-12.5))\n",
    "\n",
    "# call quad to integrate the pdf function within a limit of 12.6 to inf\n",
    "#diameter > 12.6 mm needs to be scrapped\n",
    "\n",
    "res, err = quad(PDF, 12.6, math.inf)\n",
    "\n",
    "print(\"The proportion of parts scrapped is {:f} \".format(res))"
   ]
  },
  {
   "cell_type": "markdown",
   "metadata": {},
   "source": [
    "What is the CDF when the diameter is of 11 mm?                                     \n",
    "Here cumulative density function (CDF) is consists of two expressions -                             \n",
    "F(d) = 0; when d < 12.5 and                                                 \n",
    "F(d) = 20𝑒−20(𝑑−12.5); when d>= 12.5                                         \n",
    "So, d = 11, CDF will be zero (0)."
   ]
  },
  {
   "cell_type": "code",
   "execution_count": 5,
   "metadata": {},
   "outputs": [
    {
     "name": "stdout",
     "output_type": "stream",
     "text": [
      "The proportion of parts accepted is 0.864665 \n"
     ]
    }
   ],
   "source": [
    "# Now calculating the proportion of parts which is accepted.\n",
    "# Accepted diameter will be in the range of 12.5 to 12.6 mm.\n",
    "\n",
    "res, err = quad(PDF, 12.5, 12.6)\n",
    "\n",
    "print(\"The proportion of parts accepted is {:f} \".format(res))"
   ]
  },
  {
   "cell_type": "markdown",
   "metadata": {},
   "source": [
    "###### Conclusions:\n",
    "\n",
    "Around 13.5% products will be scrapped and 86.5% products will be accepted."
   ]
  },
  {
   "cell_type": "markdown",
   "metadata": {},
   "source": [
    "###### Problem Statement 5:\n",
    "\n",
    "A company manufactures LED bulbs with a faulty rate of 30%. If I randomly select 6\n",
    "chosen LEDs, what is the probability of having 2 faulty LEDs in my sample?\n",
    "Calculate the average value of this process. Also evaluate the standard deviation\n",
    "associated with it."
   ]
  },
  {
   "cell_type": "code",
   "execution_count": 6,
   "metadata": {},
   "outputs": [
    {
     "name": "stdout",
     "output_type": "stream",
     "text": [
      "Required probabaility is:  0.26778419891897015\n",
      "The standard deviation is:  1.3416407864998738\n"
     ]
    }
   ],
   "source": [
    "n = 6\n",
    "p = 0.3\n",
    "\n",
    "Mu = n*p\n",
    "x = 2\n",
    "\n",
    "def poisson_dist(Mu, x):\n",
    "    result = math.exp(-Mu)*((Mu)**x) / math.factorial(x)\n",
    "    return result\n",
    "\n",
    "print('Required probabaility is: ', poisson_dist(Mu, x))\n",
    "\n",
    "# In poission distribution mean = variance\n",
    "std = math.sqrt(Mu)\n",
    "print('The standard deviation is: ', std)\n"
   ]
  },
  {
   "cell_type": "markdown",
   "metadata": {},
   "source": [
    "###### Problem Statement 6\n",
    "\n",
    "Gaurav and Barakha are both preparing for entrance exams. Gaurav attempts to solve 8 questions per day with a correction rate of 75%, while Barakha averages around 12 questions per day with a correction rate of 45%. What is the probability that each of them will solve 5 questions correctly? What happens in cases of 4 and 6 correct solutions? What do you infer from it? What are the two main governing factors affecting their ability to solve questions correctly? Give a pictorial representation of the same to validate your answer."
   ]
  },
  {
   "cell_type": "code",
   "execution_count": 7,
   "metadata": {},
   "outputs": [
    {
     "name": "stdout",
     "output_type": "stream",
     "text": [
      "Gaurav's probability of solving 5 questions correctly is:  0.2076416015625\n",
      "Gaurav's probability of solving 4 questions correctly is:  0.086517333984375\n",
      "Gaurav's probability of solving 6 questions correctly is:  0.31146240234375\n",
      "====================================================================================================\n",
      "Gaurav's data distribution: \n"
     ]
    },
    {
     "data": {
      "text/plain": [
       "[Text(0, 0.5, 'Frequency'), Text(0.5, 0, 'Binomial')]"
      ]
     },
     "execution_count": 7,
     "metadata": {},
     "output_type": "execute_result"
    },
    {
     "data": {
      "image/png": "[encoded data removed]",
      "text/plain": [
       "<Figure size 432x288 with 1 Axes>"
      ]
     },
     "metadata": {
      "needs_background": "light"
     },
     "output_type": "display_data"
    }
   ],
   "source": [
    "import seaborn as sns\n",
    "from scipy.stats import binom\n",
    "\n",
    "# Function for Binomial calculation :[nCx.p^x.q^(n-x)]\n",
    "def cal_Binomial(p,q,n,x):\n",
    "    \n",
    "    Binomial = (math.factorial(n)/(math.factorial(n-x) * math.factorial(x))) * p**x * q**(n-x) \n",
    "    \n",
    "    return Binomial\n",
    "\n",
    "# Gaurav\n",
    "p = 0.75\n",
    "q = 0.25\n",
    "n = 8\n",
    "x = 5\n",
    "\n",
    "print(\"Gaurav's probability of solving 5 questions correctly is: \",cal_Binomial(p,q,n,x))\n",
    "\n",
    "#In cases of 4 and 6 correct solutions\n",
    "x=4\n",
    "print(\"Gaurav's probability of solving 4 questions correctly is: \",cal_Binomial(p,q,n,x))\n",
    "x=6\n",
    "print(\"Gaurav's probability of solving 6 questions correctly is: \",cal_Binomial(p,q,n,x))\n",
    "print(\"=\"*100)\n",
    "\n",
    "print(\"Gaurav's data distribution: \")\n",
    "data = binom.rvs(n=8,p=0.75, loc=0, size=1000 )\n",
    "ax=sns.distplot(data,kde=True,color='blue',hist_kws={\"linewidth\":22,'alpha':0.77})\n",
    "ax.set(xlabel='Binomial',ylabel='Frequency')"
   ]
  },
  {
   "cell_type": "code",
   "execution_count": 8,
   "metadata": {},
   "outputs": [
    {
     "name": "stdout",
     "output_type": "stream",
     "text": [
      "Barakha's probability of solving 5 questions correctly is:  0.22249823843265837\n",
      "Barakha's probability of solving 4 questions correctly is:  0.16996393213605848\n",
      "Barakha's probability of solving 6 questions correctly is:  0.2123846821402648\n",
      "====================================================================================================\n",
      "Barakha's data distribution: \n"
     ]
    },
    {
     "data": {
      "text/plain": [
       "[Text(0, 0.5, 'Frequency'), Text(0.5, 0, 'Binomial')]"
      ]
     },
     "execution_count": 8,
     "metadata": {},
     "output_type": "execute_result"
    },
    {
     "data": {
      "image/png": "[encoded data removed]",
      "text/plain": [
       "<Figure size 432x288 with 1 Axes>"
      ]
     },
     "metadata": {
      "needs_background": "light"
     },
     "output_type": "display_data"
    }
   ],
   "source": [
    "# Barakha\n",
    "p = 0.45\n",
    "q = 0.55\n",
    "n = 12\n",
    "x = 5\n",
    "\n",
    "print(\"Barakha's probability of solving 5 questions correctly is: \",cal_Binomial(p,q,n,x))\n",
    "x=4\n",
    "print(\"Barakha's probability of solving 4 questions correctly is: \",cal_Binomial(p,q,n,x))\n",
    "x=6\n",
    "print(\"Barakha's probability of solving 6 questions correctly is: \",cal_Binomial(p,q,n,x))\n",
    "print(\"=\"*100)\n",
    "print(\"Barakha's data distribution: \")\n",
    "data = binom.rvs(n=12,p=0.45, loc=0, size=1000 )\n",
    "ax=sns.distplot(data,kde=True,color='blue',hist_kws={\"linewidth\":22,'alpha':0.77})\n",
    "ax.set(xlabel='Binomial',ylabel='Frequency')"
   ]
  },
  {
   "cell_type": "markdown",
   "metadata": {},
   "source": [
    "##### Conclusions-\n",
    "Barakha's probability is highest in solving 5 questions correctly, which is 22.24%                             \n",
    "Gourav's probability is highest in solving 6 question correctly, which is 31.14%"
   ]
  },
  {
   "cell_type": "markdown",
   "metadata": {},
   "source": [
    "###### Problem Statement 7:\n",
    "\n",
    "Customers arrive at a rate of 72 per hour to my shop. What is the probability of k\n",
    "customers arriving in 4 minutes? a) 5 customers, b) not more than 3 customers, c)\n",
    "more than 3 customers. Give a pictorial representation of the same to validate your\n",
    "answer."
   ]
  },
  {
   "cell_type": "code",
   "execution_count": 9,
   "metadata": {},
   "outputs": [
    {
     "name": "stdout",
     "output_type": "stream",
     "text": [
      "Probability of 5 customers arriving in 4 minutes is:  0.17474768364388282\n",
      "Probability of not more than 3 customers arriving in 4 minutes is:  0.2942299164965641\n",
      "Probability of more than 3 customers arriving in 4 minutes is:  0.705770083503436\n"
     ]
    },
    {
     "data": {
      "text/plain": [
       "[Text(0, 0.5, 'Frequency'), Text(0.5, 0, 'Poisson')]"
      ]
     },
     "execution_count": 9,
     "metadata": {},
     "output_type": "execute_result"
    },
    {
     "data": {
      "image/png": "[encoded data removed]",
      "text/plain": [
       "<Figure size 432x288 with 1 Axes>"
      ]
     },
     "metadata": {
      "needs_background": "light"
     },
     "output_type": "display_data"
    }
   ],
   "source": [
    "from scipy.stats import poisson\n",
    "# mean customer arrives in 4 minutes\n",
    "Mu = (72/60)*4\n",
    "\n",
    "#Function to calculate Poissions distributions\n",
    "\n",
    "def cal_poission(Mu, x):\n",
    "    result = math.exp(-Mu)*((Mu)**x) / math.factorial(x)\n",
    "    return result\n",
    "\n",
    "#a.) probability of 5 customers arriving in 4 minutes; P(x=5)\n",
    "P_5 = cal_poission(Mu, 5)\n",
    "print('Probability of 5 customers arriving in 4 minutes is: ', P_5)\n",
    "\n",
    "#b.)  probability of not more than 3 customers arriving in 4 minutes; P(x=0)+P(x=1)+P(x=2)+P(x=3)\n",
    "P_3 = cal_poission(Mu, 0) + cal_poission(Mu, 1) + cal_poission(Mu, 2) + cal_poission(Mu, 3)\n",
    "print('Probability of not more than 3 customers arriving in 4 minutes is: ', P_3)\n",
    "\n",
    "\n",
    "# c.) probability of more than 3 customers arriving in 4 minutes; (1 - proability of not more than 3 customers)\n",
    "# 1 - {P(x=0)+P(x=1)+P(x=2)+P(x=3)}\n",
    "\n",
    "Pm3 = 1 - P_3\n",
    "print('Probability of more than 3 customers arriving in 4 minutes is: ', Pm3)\n",
    "\n",
    "\n",
    "# Create the sample\n",
    "sample = poisson.rvs(mu=Mu, size=1000)\n",
    "\n",
    "ax = sns.distplot(sample, kde=True, color='Blue',hist_kws={\"linewidth\": 25,'alpha':0.77})\n",
    "ax.set(xlabel='Poisson', ylabel='Frequency')"
   ]
  },
  {
   "cell_type": "markdown",
   "metadata": {},
   "source": [
    "##### Conclusions:                                  \n",
    "So,frequency of Poission distribution is highest when distribution value is nearly 3"
   ]
  },
  {
   "cell_type": "markdown",
   "metadata": {},
   "source": [
    "###### Problem Statement 8:\n",
    "\n",
    "I work as a data analyst in Aeon Learning Pvt. Ltd. After analyzing data, I make reports, where I have the efficiency of entering 77 words per minute with 6 errors per hour. What is the probability that I will commit 2 errors in a 455-word financial report? What happens when the no. of words increases/decreases (in case of 1000 words,255 words)?                                   \n",
    "How is the λ affected?\n",
    "How does it influence the PMF?                               \n",
    "Give a pictorial representation of the same to validate your answer."
   ]
  },
  {
   "cell_type": "code",
   "execution_count": 10,
   "metadata": {},
   "outputs": [
    {
     "name": "stdout",
     "output_type": "stream",
     "text": [
      "0.5909090909090909\n",
      "1.2987012987012987\n",
      "0.33116883116883117\n"
     ]
    }
   ],
   "source": [
    "def cal_mean(words,word_per_min=77,error_per_hour=6):\n",
    "    word_per_hour = word_per_min*60\n",
    "    mean_error_word = (error_per_hour*words)/word_per_hour\n",
    "    return mean_error_word\n",
    "print(cal_mean(455))\n",
    "print(cal_mean(1000))\n",
    "print(cal_mean(255))"
   ]
  },
  {
   "cell_type": "code",
   "execution_count": 11,
   "metadata": {},
   "outputs": [
    {
     "data": {
      "text/plain": [
       "0.09669027375144444"
      ]
     },
     "execution_count": 11,
     "metadata": {},
     "output_type": "execute_result"
    }
   ],
   "source": [
    "prob_error = poisson.pmf(2,cal_mean(455))\n",
    "prob_error"
   ]
  },
  {
   "cell_type": "code",
   "execution_count": 12,
   "metadata": {},
   "outputs": [
    {
     "data": {
      "text/plain": [
       "0.23012815007300153"
      ]
     },
     "execution_count": 12,
     "metadata": {},
     "output_type": "execute_result"
    }
   ],
   "source": [
    "prob_error = poisson.pmf(2,cal_mean(1000))\n",
    "prob_error"
   ]
  },
  {
   "cell_type": "code",
   "execution_count": 13,
   "metadata": {},
   "outputs": [
    {
     "data": {
      "text/plain": [
       "0.039377135392854104"
      ]
     },
     "execution_count": 13,
     "metadata": {},
     "output_type": "execute_result"
    }
   ],
   "source": [
    "prob_error = poisson.pmf(2,cal_mean(255))\n",
    "prob_error"
   ]
  },
  {
   "cell_type": "markdown",
   "metadata": {},
   "source": [
    "As we can see lambda(mean) get affected as no. of word on financial report changes. Larger the words number larger will be the lambda given that efficiency is entering 77 words per minute with 6 error per hour."
   ]
  },
  {
   "cell_type": "code",
   "execution_count": 14,
   "metadata": {},
   "outputs": [
    {
     "data": {
      "image/png": "[encoded data removed]",
      "text/plain": [
       "<Figure size 432x288 with 1 Axes>"
      ]
     },
     "metadata": {
      "needs_background": "light"
     },
     "output_type": "display_data"
    }
   ],
   "source": [
    "# Create the sample\n",
    "mu=[cal_mean(455),cal_mean(1000),cal_mean(255)] # miu = 0.591, miu_1000 = 1.299, miu_255 = 0.331\n",
    "for val in mu:\n",
    "    sample = poisson.rvs(mu= val, size=1000)\n",
    "    ax = sns.distplot(sample, kde=True, color='Blue',hist_kws={\"linewidth\": 30,'alpha':0.85})\n",
    "    ax.set(xlabel='Poisson', ylabel='Frequency')"
   ]
  },
  {
   "cell_type": "markdown",
   "metadata": {},
   "source": [
    "Conclusions:                      \n",
    "The probability of commiting error increases with the increase of number of words entered in the system, and decreases with the decrease of number of words entered in the system."
   ]
  },
  {
   "cell_type": "markdown",
   "metadata": {},
   "source": [
    "###### Problem Statement 9:                          \n",
    "Let the continuous random variable D denote the diameter of the hole drilled in an aluminum sheet. The target diameter to be achieved is 12.5mm. Random disturbances in the process often result in inaccuracy. Historical data shows that the distribution of D can be modelled by the PDF, f(d) = 20e−20(d−12.5), d ≥ 12.5. If a part with diameter > 12.6 mm needs to be scrapped, what is the proportion of those parts? What is the CDF when the diameter is of 11 mm?\n",
    "What is the conclusion of this experiment? "
   ]
  },
  {
   "cell_type": "raw",
   "metadata": {},
   "source": [
    "Repeated Question same as Problem Statement 4"
   ]
  },
  {
   "cell_type": "markdown",
   "metadata": {},
   "source": [
    "###### Problem Statement 10:                    \n",
    "\n",
    "Please compute the following:           \n",
    "a) P(Z > 1.26), . P(Z < −0.86), P(Z > −1.37), P(−1.25 < Z < 0.37), . P(Z ≤ −4.6)            \n",
    "b) Find the value z such that P(Z > z) = 0.05                                \n",
    "c) Find the value of z such that P(−z < Z < z) = 0.99  \n",
    "\n",
    "\n",
    "a) P(Z > 1.26), . P(Z < −0.86), P(Z > −1.37), P(−1.25 < Z < 0.37), . P(Z ≤ −4.6)            \n"
   ]
  },
  {
   "cell_type": "code",
   "execution_count": 15,
   "metadata": {},
   "outputs": [
    {
     "data": {
      "text/plain": [
       "0.1948945212518084"
      ]
     },
     "execution_count": 15,
     "metadata": {},
     "output_type": "execute_result"
    }
   ],
   "source": [
    "from scipy.stats import norm\n",
    "val = norm.cdf(-0.86)\n",
    "val"
   ]
  },
  {
   "cell_type": "code",
   "execution_count": 16,
   "metadata": {},
   "outputs": [
    {
     "name": "stdout",
     "output_type": "stream",
     "text": [
      "Calculated probability is:  0.10383468112130045\n"
     ]
    }
   ],
   "source": [
    "# P(Z > 1.26) = 1 - P(Z <= 1.26)\n",
    "P_Val_1 = 1 - norm.cdf(1.26)\n",
    "print('Calculated probability is: ',P_Val_1)"
   ]
  },
  {
   "cell_type": "code",
   "execution_count": 17,
   "metadata": {},
   "outputs": [
    {
     "name": "stdout",
     "output_type": "stream",
     "text": [
      "Calculated probability is:  0.1948945212518084\n"
     ]
    }
   ],
   "source": [
    "# P(Z < -0.86)\n",
    "P_Val_2 = norm.cdf(-0.86)\n",
    "print('Calculated probability is: ',P_Val_2)"
   ]
  },
  {
   "cell_type": "code",
   "execution_count": 18,
   "metadata": {},
   "outputs": [
    {
     "name": "stdout",
     "output_type": "stream",
     "text": [
      "Calculated probability is:  0.914656549178033\n"
     ]
    }
   ],
   "source": [
    "# P(Z > -1.37) = P(Z < 1.37)\n",
    "P_Val_3 = norm.cdf(1.37)\n",
    "print('Calculated probability is: ',P_Val_3)"
   ]
  },
  {
   "cell_type": "code",
   "execution_count": 19,
   "metadata": {},
   "outputs": [
    {
     "name": "stdout",
     "output_type": "stream",
     "text": [
      "Calculated probability is:  0.5386589811336914\n"
     ]
    }
   ],
   "source": [
    "# P(-1.25 < Z < 0.37) = P(Z < 0.37) - P(Z < -1.25)\n",
    "P_Val_4 = norm.cdf(0.37) - norm.cdf(-1.25)\n",
    "print('Calculated probability is: ',P_Val_4)"
   ]
  },
  {
   "cell_type": "code",
   "execution_count": 20,
   "metadata": {},
   "outputs": [
    {
     "name": "stdout",
     "output_type": "stream",
     "text": [
      "Calculated probability is:  2.1124547025028537e-06\n"
     ]
    }
   ],
   "source": [
    "# P(Z <= -4.6)\n",
    "P_Val_5 = norm.cdf(-4.6)\n",
    "print('Calculated probability is: ',P_Val_5)"
   ]
  },
  {
   "cell_type": "code",
   "execution_count": 21,
   "metadata": {},
   "outputs": [
    {
     "name": "stdout",
     "output_type": "stream",
     "text": [
      "Calculated value of Z is:  -1.6448536269514729\n"
     ]
    },
    {
     "data": {
      "text/plain": [
       "0.049999999999999975"
      ]
     },
     "execution_count": 21,
     "metadata": {},
     "output_type": "execute_result"
    }
   ],
   "source": [
    "# b) Find the value 𝑧 such that 𝑃(𝑍 > 𝑧) = 0.05\n",
    "\n",
    "# Find the value 𝑧 such that 𝑃(𝑍 > 𝑧) = 0.05\n",
    "Z_val = norm.ppf(0.05)\n",
    "print('Calculated value of Z is: ',Z_val)\n",
    "# cross check\n",
    "prob = norm.cdf(Z_val)\n",
    "prob"
   ]
  },
  {
   "cell_type": "markdown",
   "metadata": {},
   "source": [
    "c) Find the value of 𝑧 such that 𝑃(−𝑧 < 𝑍 < 𝑧) = 0.99\n",
    "\n",
    "This is a two-tailed test.                            \n",
    "significance level alpha = 1-0.99 = 0.01                           \n",
    "for two-tailed test alpha/2 = 0.01 / 2 = 0.005                           \n",
    "probability = 1 - 0.005 = 0.995                           \n",
    "Now we need to find the critical value for probability = 0.995              \n"
   ]
  },
  {
   "cell_type": "code",
   "execution_count": 22,
   "metadata": {},
   "outputs": [
    {
     "name": "stdout",
     "output_type": "stream",
     "text": [
      "Calculated value of z is:  2.5758293035489004\n"
     ]
    }
   ],
   "source": [
    "z_val1 = norm.ppf(0.995)\n",
    "print('Calculated value of z is: ',z_val1)"
   ]
  },
  {
   "cell_type": "markdown",
   "metadata": {},
   "source": [
    "So the calculated value of z is: z = + 2.576 and - 2.576\n",
    "\n",
    "𝑃(−2.576 < 𝑍 < 2.576) = 0.99"
   ]
  },
  {
   "cell_type": "markdown",
   "metadata": {},
   "source": [
    "###### Problem Statement 11:\n",
    "\n",
    "The current flow in a copper wire follow a normal distribution with a mean of 10 mA and a variance of 4 (mA)2.\n",
    "What is the probability that a current measurement will exceed 13 mA? What is the probability that a current measurement is between 9 and 11mA? Determine the\n",
    "current measurement which has a probability of 0.98."
   ]
  },
  {
   "cell_type": "code",
   "execution_count": 23,
   "metadata": {},
   "outputs": [
    {
     "name": "stdout",
     "output_type": "stream",
     "text": [
      "The probability of current measurement will exceed 13 𝑚𝐴 is:  0.06680720126885809\n",
      "The probability of current measurement is between 9 and 11 𝑚𝐴 is:  0.38292492254802624\n",
      "The current mesasurements for 98% probability is:  14.107497821263646\n"
     ]
    }
   ],
   "source": [
    "import scipy.stats as st\n",
    "Mu = 10\n",
    "sig = 2 # as variance = 4\n",
    "# a.) P(x > 13) \n",
    "# 1 - P(x<=13)\n",
    "\n",
    "# To find the probability that the variable has a value LESS than or equal, we have to use CDF cumulative Density Function\n",
    "\n",
    "P_greater = (1- st.norm.cdf(13,10,2))\n",
    "\n",
    "print(\"The probability of current measurement will exceed 13 𝑚𝐴 is: \" , P_greater)\n",
    "\n",
    "\n",
    "# b.) P(9<x<11)\n",
    "P_btwn = (st.norm.cdf(11,10,2) - st.norm.cdf(9,10,2))\n",
    "\n",
    "print(\"The probability of current measurement is between 9 and 11 𝑚𝐴 is: \", P_btwn)\n",
    "\n",
    "\n",
    "#c.) To find the variate for which the probability is given, PPF Percent Point Function is used\n",
    "#value which needed to provide a 98% probability \n",
    "\n",
    "P_98_prcnt = st.norm.ppf(0.98,10,2)\n",
    "\n",
    "print(\"The current mesasurements for 98% probability is: \", P_98_prcnt)"
   ]
  },
  {
   "cell_type": "markdown",
   "metadata": {},
   "source": [
    "###### Problem Statement 12:\n",
    "\n",
    "The shaft in a piston has its diameter normally distributed with a mean of 0.2508 inch and a standard deviation of 0.0005 inch. The specifications of the shaft are 0.2500 ∓ 0.0015 inch. What proportion of shafts are in sync with the specifications? If the process is centered so that the mean is equal to the target value of 0.2500, what\n",
    "proportion of shafts conform to the new specifications? What is your conclusion from this experiment?"
   ]
  },
  {
   "cell_type": "code",
   "execution_count": 24,
   "metadata": {},
   "outputs": [
    {
     "name": "stdout",
     "output_type": "stream",
     "text": [
      "lv : 0.2485\n",
      "hv : 0.2515\n",
      "Proportion of shaft that are sync within specification with mean=0.2508 is 0.91924122831152\n",
      "Proportion of shaft that are sync within specification with mean=0.25 :0.9973002039367398\n",
      " a:0.9999978875452975 \n",
      " b:0.0807566592337775 \n",
      " c:0.9986501019683699 \n",
      " d:0.0013498980316300813\n"
     ]
    }
   ],
   "source": [
    "mean = 0.2508\n",
    "std = 0.0005\n",
    "lv = 0.2500-0.0015\n",
    "print(\"lv :\",lv)\n",
    "hv = 0.2500+0.0015\n",
    "print(\"hv :\",hv)\n",
    "\n",
    "def get_pvalue(x,mean,std):\n",
    "    z_score= (x-mean)/std\n",
    "    p_value= st.norm.sf(z_score)\n",
    "    return p_value\n",
    "\n",
    "a=get_pvalue(lv,mean,std)\n",
    "b=get_pvalue(hv,mean,std)\n",
    "\n",
    "print(\"Proportion of shaft that are sync within specification with mean={} is {}\".format(mean,a-b))\n",
    "\n",
    "c=get_pvalue(lv,0.25,std)\n",
    "d=get_pvalue(hv,0.25,std)\n",
    "\n",
    "print(\"Proportion of shaft that are sync within specification with mean={} :{}\".format(0.25,c-d))\n",
    "\n",
    "print(\" a:{} \\n b:{} \\n c:{} \\n d:{}\".format(a,b,c,d))\n"
   ]
  },
  {
   "cell_type": "markdown",
   "metadata": {},
   "source": [
    "Conclusion is 3 times standard deviation from mean cover 99.7 % data"
   ]
  },
  {
   "cell_type": "code",
   "execution_count": null,
   "metadata": {},
   "outputs": [],
   "source": []
  }
 ],
 "metadata": {
  "kernelspec": {
   "display_name": "Python 3",
   "language": "python",
   "name": "python3"
  },
  "language_info": {
   "codemirror_mode": {
    "name": "ipython",
    "version": 3
   },
   "file_extension": ".py",
   "mimetype": "text/x-python",
   "name": "python",
   "nbconvert_exporter": "python",
   "pygments_lexer": "ipython3",
   "version": "3.7.6"
  }
 },
 "nbformat": 4,
 "nbformat_minor": 4
}
