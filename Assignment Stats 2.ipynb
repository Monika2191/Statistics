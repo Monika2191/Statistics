{
 "cells": [
  {
   "cell_type": "markdown",
   "metadata": {},
   "source": [
    "##### Problem Statement 1\n",
    "In each of the following situations, state whether it is a correctly stated hypothesis testing problem and why?\n",
    "1. H0: μ = 25, H1: μ ≠ 25                                     \n",
    "2. H0: σ > 10, H1: σ = 10                   \n",
    "3. H0: x = 50, H1: x ≠ 50                                    \n",
    "4. H0: p = 0.1, H1: p = 0.5                     \n",
    "5. H0: s = 30, H1: s > 30"
   ]
  },
  {
   "cell_type": "markdown",
   "metadata": {},
   "source": [
    "***Descriptions:***                  \n",
    "1.Yes,                \n",
    "Null Hypothesis H0 is 𝜇 = 25,                            \n",
    "Alternative Hypothesis H1 is 𝜇 ≠ 25, which is ***Correct*** .                      \n",
    "This is a two sided hypothesis. Null and Alternative hypothesis are contradicting with each other           \n",
    "This is called a two-sided alternative hypothesis.                            \n",
    "\n",
    "2.Incorrect,                 \n",
    "Null Hypothesis H0 is 𝜎 > 10,                         \n",
    "Alternative Hypothesis H1 is 𝜎 = 10, which is ***Incorrect*** .                    \n",
    "As alternative hypothesis has to satisfy both the cases of 𝜎 = 10 and 𝜎 < 10.                 \n",
    "If any of the cases matches then Null Hypothesis will be incorrect.                     \n",
    "So alternative hypothesis H1 would be 𝜎 < = 10                      \n",
    "\n",
    "3.Incorrect,                                           \n",
    "Null Hypothesis H0 is 𝑥 = 50,                                     \n",
    "Alternative Hypothesis H1 is 𝑥 ≠ 50, which is ***Incorrect*** .                                    \n",
    "Hypothesis always talks about the population or distribution. Here it is a sample.                             \n",
    "\n",
    "4.Incorrect                                            \n",
    "Null Hypothesis H0 is 𝑝 = 0.1,                                        \n",
    "Alternative Hypothesis H1 is 𝑝 = 0.5, which is ***Incorrect*** .                                      \n",
    "As alternative hypothesis has to satisfy both the cases of 𝑝 < 0.1 and 𝑝 > 0.1.                     \n",
    "So alternative hypothesis H1 would be 𝑝 ≠ 0.1                  \n",
    "Either null or alternative should be true at any point of time. Here, if p=0.3 comes, then both null and alternative will fail.                      \n",
    "                             \n",
    "5.Incorrect                  \n",
    "Null Hypothesis 𝐻0: 𝑠 = 30,                         \n",
    "Alternative Hypothesis 𝐻1: 𝑠 > 30, which is **Incorrect**.                   \n",
    "Hypothesis always talks about the population or distribution. Here it is a sample.              \n"
   ]
  },
  {
   "cell_type": "markdown",
   "metadata": {},
   "source": [
    "###### Problem Statement 2:\n",
    "The college bookstore tells prospective students that the average cost of its\n",
    "textbooks is Rs. 52 with a standard deviation of Rs. 4.50. A group of smart statistics\n",
    "students thinks that the average cost is higher. To test the bookstore’s claim against\n",
    "their alternative, the students will select a random sample of size 100. Assume that\n",
    "the mean from their random sample is Rs. 52.80. Perform a hypothesis test at the\n",
    "5% level of significance and state your decision."
   ]
  },
  {
   "cell_type": "code",
   "execution_count": 1,
   "metadata": {
    "scrolled": true
   },
   "outputs": [
    {
     "name": "stdout",
     "output_type": "stream",
     "text": [
      "The computed value of Z is:  1.7777777777777715\n",
      "The value of z_critical is:  1.959963984540054\n",
      "Null Hypothesis Accepted\n"
     ]
    }
   ],
   "source": [
    "import numpy as math\n",
    "from scipy import stats\n",
    "\n",
    "pMean = 52 # populatin mean\n",
    "pStd = 4.50 # population standard deviation\n",
    "Sample_size = 100 # sample size\n",
    "sMean = 52.80 # sample mean\n",
    "signi_level = 0.05 # significance level\n",
    "\n",
    "# Hypothesis H0: pMean = 52, H1: pMean ≠ 52\n",
    "# This will be a two-tailed test\n",
    "    \n",
    "def Z_test(sMean, pMean,Sample_size,pStd ):  # Z test calculation\n",
    "    SE =(pStd)/math.sqrt(Sample_size) # Standard error\n",
    "    Z_val = (sMean - pMean) / SE\n",
    "    return Z_val\n",
    "\n",
    "val = Z_test(sMean, pMean, Sample_size,pStd)\n",
    "print('The computed value of Z is: ',val)\n",
    "\n",
    "# Now we need to find out the critical value for significance level 5% = 0.05\n",
    "p=1-signi_level/2\n",
    "z_critical=stats.norm.ppf(p)\n",
    "print('The value of z_critical is: ',z_critical)\n",
    "\n",
    "def check_test(val,z_critical):\n",
    "    if val > z_critical:\n",
    "        print(\"Null Hypothesis Rejected\")\n",
    "    else:\n",
    "        print(\"Null Hypothesis Accepted\")\n",
    "check_test(val,z_critical)"
   ]
  },
  {
   "cell_type": "markdown",
   "metadata": {},
   "source": [
    "****Conclusions****\n",
    "The criticial value of Z is: Z = +1.96 and -1.96 at 5% level of significance.                   \n",
    "Our computed value of Z is: Z = 1.78.                  \n",
    "\n",
    "So, computed value falls in acceptance region. Hence we accept the Null Hypothesis.          \n",
    "Hence the mean average cost of text book is: $52.    "
   ]
  },
  {
   "cell_type": "markdown",
   "metadata": {},
   "source": [
    "###### Problem Statement 3:\n",
    "A certain chemical pollutant in the Genesee River has been constant for several\n",
    "years with mean μ = 34 ppm (parts per million) and standard deviation σ = 8 ppm. A\n",
    "group of factory representatives whose companies discharge liquids into the river is\n",
    "now claiming that they have lowered the average with improved filtration devices. A\n",
    "group of environmentalists will test to see if this is true at the 1% level of\n",
    "significance. Assume \\ that their sample of size 50 gives a mean of 32.5 ppm.\n",
    "Perform a hypothesis test at the 1% level of significance and state your decision."
   ]
  },
  {
   "cell_type": "code",
   "execution_count": 2,
   "metadata": {},
   "outputs": [
    {
     "name": "stdout",
     "output_type": "stream",
     "text": [
      "The computed value of Z is:  -1.3258252147247767\n",
      "The value of z_critical is:  2.5758293035489004\n",
      "Null Hypothesis Accepted\n"
     ]
    }
   ],
   "source": [
    "import numpy as math\n",
    "from scipy import stats\n",
    "\n",
    "pMean = 34 # populatin mean\n",
    "pStd = 8 # population standard deviation\n",
    "Sample_size = 50 # sample size\n",
    "sMean =32.5 # sample mean\n",
    "signi_level = 0.01 # significance level\n",
    "\n",
    "# Hypothesis: \n",
    "# H0: pMean = 34, \n",
    "# H1: pMean ≠ 34\n",
    "# This will be a two-tailed test\n",
    "\n",
    "    \n",
    "def Z_test(sMean, pMean,Sample_size,pStd ):  # Z test calculation\n",
    "    SE =(pStd)/math.sqrt(Sample_size) # Standard error\n",
    "    Z_val = (sMean - pMean) / SE\n",
    "    return Z_val\n",
    "\n",
    "val = Z_test(sMean, pMean, Sample_size,pStd)\n",
    "print('The computed value of Z is: ',val)\n",
    "\n",
    "# Now we need to find out the critical value for significance level 1% = 0.01\n",
    "\n",
    "p=1-signi_level/2\n",
    "z_critical=stats.norm.ppf(p)\n",
    "print('The value of z_critical is: ',z_critical)\n",
    "\n",
    "def check_test(val,z_critical):\n",
    "    if val > z_critical:\n",
    "        print(\"Null Hypothesis Rejected\")\n",
    "    else:\n",
    "        print(\"Null Hypothesis Accepted\")\n",
    "check_test(val,z_critical)\n"
   ]
  },
  {
   "cell_type": "markdown",
   "metadata": {},
   "source": [
    "****Conclusions****       \n",
    "The criticial value of Z is: Z = +2.58 and -2.58 at 1% level of significance.                             \n",
    "Our computed value of Z is: Z = -1.33.                            \n",
    "\n",
    "So, computed value falls in acceptance region. Hence we accept the Null Hypothesis.                        \n",
    "Hence there claim that they have lowered the average discharge with improved filteration devices is true.                 "
   ]
  },
  {
   "cell_type": "markdown",
   "metadata": {},
   "source": [
    "##### Problem Statement 4:\n",
    "Based on population figures and other general information on the U.S. population,\n",
    "suppose it has been estimated that, on average, a family of four in the U.S. spends\n",
    "about $1135 annually on dental expenditures. Suppose further that a regional dental\n",
    "association wants to test to determine if this figure is accurate for their area of\n",
    "country. To test this, 22 families of 4 are randomly selected from the population in\n",
    "that area of the country and a log is kept of the family’s dental expenditure for one\n",
    "year. The resulting data are given below. Assuming, that dental expenditure is\n",
    "normally distributed in the population, use the data and an alpha of 0.5 to test the\n",
    "dental association’s hypothesis.\n",
    "1008, 812, 1117, 1323, 1308, 1415, 831, 1021, 1287, 851, 930, 730, 699,\n",
    "872, 913, 944, 954, 987, 1695, 995, 1003, 994"
   ]
  },
  {
   "cell_type": "code",
   "execution_count": 3,
   "metadata": {},
   "outputs": [
    {
     "name": "stdout",
     "output_type": "stream",
     "text": [
      "The computed value of Z is:  -2.023137479931484\n",
      "0.975\n",
      "The value of z_critical is:  1.959963984540054\n",
      "Null Hypothesis Accepted\n"
     ]
    }
   ],
   "source": [
    "import numpy as mat\n",
    "from scipy import stats\n",
    "import statistics\n",
    "\n",
    "pMean = 1135 # populatin mean\n",
    "Sample_size = 22 # sample size\n",
    "lst=[1008, 812, 1117, 1323, 1308, 1415, 831, 1021, 1287, 851, 930, 730, 699, 872, 913, 944, 954, 987, 1695, 995, 1003 ,994]\n",
    "sMean =math.mean(lst) # sample mean\n",
    "pStd =statistics.stdev(lst)# population standard deviation\n",
    "signi_level = 0.05 # significance level\n",
    "\n",
    "# Hypothesis: \n",
    "# H0: pMean = 1135, \n",
    "# H1: pMean ≠ 1135\n",
    "# This will be a two-tailed test\n",
    "\n",
    "def Z_test(sMean, pMean,Sample_size,pStd ):  # Z test calculation\n",
    "    SE =(pStd)/math.sqrt(Sample_size) # Standard error\n",
    "    Z_val = (sMean - pMean) / SE\n",
    "    return Z_val\n",
    "\n",
    "val = Z_test(sMean, pMean, Sample_size,pStd)\n",
    "print('The computed value of Z is: ',val)\n",
    "\n",
    "# Now we need to find out the critical value for significance level = 0.05\n",
    "\n",
    "p=1-signi_level/2\n",
    "print(p)\n",
    "z_critical=stats.norm.ppf(p)\n",
    "print('The value of z_critical is: ',z_critical)\n",
    "\n",
    "def check_test(val,z_critical):\n",
    "    if val > z_critical:\n",
    "        print(\"Null Hypothesis Rejected\")\n",
    "    else:\n",
    "        print(\"Null Hypothesis Accepted\")\n",
    "check_test(val,z_critical)"
   ]
  },
  {
   "cell_type": "markdown",
   "metadata": {},
   "source": [
    "##### Conclusions\n",
    "The criticial value of Z is: Z = +1.96 and -1.96 at 5% level of significance.                     \n",
    "Our computed value of Z is: Z = -2.023.                              \n",
    "\n",
    "So, computed value falls in rejection region. Hence we reject the Null Hypothesis.                   \n",
    "    Hence the average dental expenses is not accurate for this area                         "
   ]
  },
  {
   "cell_type": "markdown",
   "metadata": {},
   "source": [
    "###### Problem Statement 5:\n",
    "In a report prepared by the Economic Research Department of a major bank the Department manager maintains that the average annual family income on Metropolis is dollar 48,432. What do you conclude about the validity of the report if a random sample of 400 families shows and average income of $48,574 with a standard deviation of 2000?"
   ]
  },
  {
   "cell_type": "code",
   "execution_count": 4,
   "metadata": {},
   "outputs": [
    {
     "name": "stdout",
     "output_type": "stream",
     "text": [
      "The computed value of Z is:  1.42\n"
     ]
    }
   ],
   "source": [
    "import numpy as math\n",
    "from scipy import stats\n",
    "\n",
    "pMean = 48432 # populatin mean\n",
    "pStd = 2000 # population standard deviation\n",
    "Sample_size = 400 # sample size\n",
    "sMean =48574 # sample mean\n",
    "\n",
    "# Hypothesis: \n",
    "# H0: pMean = 48432, \n",
    "# H1: pMean ≠ 48432\n",
    "# This will be a two-tailed test\n",
    "\n",
    "def Z_test(sMean, pMean,Sample_size,pStd ):  # Z test calculation\n",
    "    SE =(pStd)/math.sqrt(Sample_size) # Standard error\n",
    "    Z_val = (sMean - pMean) / SE\n",
    "    return Z_val\n",
    "\n",
    "val = Z_test(sMean, pMean, Sample_size,pStd)\n",
    "print('The computed value of Z is: ',val)"
   ]
  },
  {
   "cell_type": "markdown",
   "metadata": {},
   "source": [
    "###### Problem Statement 6:\n",
    "Suppose that in past years the average price per square foot for warehouses in the\n",
    "United States has been dollar 32.28. A national real estate investor wants to determine\n",
    "whether that figure has changed now. The investor hires a researcher who randomly\n",
    "samples 19 warehouses that are for sale across the United States and finds that the\n",
    "mean price per square foot is dollar 31.67, with a standard deviation of $1.29. assume\n",
    "that the prices of warehouse footage are normally distributed in population. If the\n",
    "researcher uses a 5% level of significance, what statistical conclusion can be\n",
    "reached? What are the hypotheses?"
   ]
  },
  {
   "cell_type": "code",
   "execution_count": 5,
   "metadata": {},
   "outputs": [
    {
     "name": "stdout",
     "output_type": "stream",
     "text": [
      "The computed value of Z -74.73265855963811\n",
      "0.975\n",
      "The value of z_critical is:  1.959963984540054\n",
      "Null Hypothesis Accepted\n"
     ]
    }
   ],
   "source": [
    "import numpy as math\n",
    "from scipy import stats\n",
    "\n",
    "pMean = 32.28 # populatin mean\n",
    "pStd = 1.29 # population standard deviation\n",
    "Sample_size = 19 # sample size\n",
    "sMean =31.67 # sample mean\n",
    "signi_level = 0.05 # significance level\n",
    "\n",
    "# Hypothesis: \n",
    "# H0: pMean = 32.28, \n",
    "# H1: pMean ≠ 32.28\n",
    "# This will be a two-tailed test\n",
    "\n",
    "def Z_test(pMean,pStd,Sample_size,sMean):\n",
    "    SE=pStd/math.sqrt(Sample_size)\n",
    "    Z_val=pMean-sMean/SE\n",
    "    return Z_val\n",
    "    \n",
    "val=Z_test(pMean,pStd,Sample_size,sMean)\n",
    "print(\"The computed value of Z\", val)\n",
    "\n",
    "# Now we need to find out the critical value for significance level 5% = 0.05\n",
    "p=1-signi_level/2\n",
    "print(p)\n",
    "Z_critical=stats.norm.ppf(p)\n",
    "print('The value of z_critical is: ',Z_critical)\n",
    "\n",
    "def check_test(val,Z_critical):\n",
    "    if val>Z_critical:\n",
    "        print(\"Null Hypothesis Rejected\")\n",
    "    else:\n",
    "        print(\"Null Hypothesis Accepted\")\n",
    "check_test(val,Z_critical)"
   ]
  },
  {
   "cell_type": "markdown",
   "metadata": {},
   "source": [
    "##### Conclusions\n",
    "The criticial value of Z is: Z = +1.96 and -1.96 at 5% level of significance.              \n",
    "Our computed value of Z is: Z = -2.061.                \n",
    "\n",
    "So, computed value falls in rejection region. Hence we reject the Null Hypothesis.                   \n",
    "Hence the average price per square foot for warehouses has changed now.              "
   ]
  },
  {
   "cell_type": "markdown",
   "metadata": {},
   "source": [
    "##### Problem Statement 7:\n",
    "Fill in the blank spaces in the table and draw your conclusions from it\n",
    "\n",
    " \n",
    "| Acceptance Region | Sample Size | α | β at μ = 52 | β at μ = 50.5| \n",
    "| ---- | ---- | ---- | ---- | ---- |\n",
    "| 48.5 <x̅ < 51.5 | 10 |  |  |  |\n",
    "| 48 <x̅ < 52 | 10 |  |  |  |\n",
    "| 48.81 <x̅ < 51.9 | 16 |  |  |  |\n",
    "| 48.42 <x̅ < 51.58 | 16 |  |  |  |\n",
    "\t\t\t\t\t"
   ]
  },
  {
   "cell_type": "code",
   "execution_count": 6,
   "metadata": {},
   "outputs": [
    {
     "name": "stdout",
     "output_type": "stream",
     "text": [
      "Calculated α value is:  0.0578\n",
      "Calculated β value at 𝜇 = 52 is:  0.2635\n",
      "Calculated β value at 𝜇 = 50.5 is:  0.8913\n"
     ]
    }
   ],
   "source": [
    "import math\n",
    "from scipy.stats import norm\n",
    "# α = P(type I error) = P(reject H0 when H0 is true)\n",
    "\n",
    "# let say 𝜇 = 50, 𝜎 = 2.5\n",
    "# α = P(48.5 <x̅ < 51.5) =  P(x < 48.5 when𝜇 = 50) + P(x > 51.5 when𝜇 = 50)\n",
    "\n",
    "z1 = (48.5-50)/ (2.5/math.sqrt(10)) # applying central limit theroem\n",
    "z2 = (51.5-50)/ (2.5/math.sqrt(10))\n",
    "# α = P(Z < z1) + P(Z>z2)\n",
    "α = norm.cdf(z1) +(1 - norm.cdf(z2))\n",
    "print('Calculated α value is: ', round(α, 4))\n",
    "\n",
    "# β = P(48.5 <x̅ < 51.5) at 𝜇 = 52 # type II error\n",
    "# β = P(((48.5-52)/(2.5/math.sqrt(10)) < Z < (51.5-52)/((2.5/math.sqrt(10)))\n",
    "\n",
    "z3 = (48.5-52)/ (2.5/math.sqrt(10))\n",
    "z4 = (51.5-52)/(2.5/math.sqrt(10))\n",
    "# β = P(Z < z4) - P(Z<z3)\n",
    "β = norm.cdf(z4) - norm.cdf(z3)\n",
    "print('Calculated β value at 𝜇 = 52 is: ', round(β, 4))\n",
    "\n",
    "\n",
    "# β = P(48.5 <x̅ < 51.5) at 𝜇 = 50.5 # type II error\n",
    "# β = P(((48.5-50.5)/(2.5/math.sqrt(10)) < Z < (51.5-50.5)/((2.5/math.sqrt(10)))\n",
    "\n",
    "z5 = (48.5-50.5)/ (2.5/math.sqrt(10))\n",
    "z6 = (51.5-50.5)/(2.5/math.sqrt(10))\n",
    "# β = P(Z < z6) - P(Z<z5)\n",
    "β = norm.cdf(z6) - norm.cdf(z5)\n",
    "print('Calculated β value at 𝜇 = 50.5 is: ', round(β, 4))"
   ]
  },
  {
   "cell_type": "code",
   "execution_count": 7,
   "metadata": {},
   "outputs": [
    {
     "name": "stdout",
     "output_type": "stream",
     "text": [
      "Calculated α value is:  0.0114\n",
      "Calculated β value at 𝜇 = 52 is:  0.5\n",
      "Calculated β value at 𝜇 = 50.5 is:  0.9703\n"
     ]
    }
   ],
   "source": [
    "# α = P(type I error) = P(reject H0 when H0 is true)\n",
    "\n",
    "# let say 𝜇 = 50, 𝜎 = 2.5\n",
    "# α = P(48 <x̅ < 52) =  P(x < 48 when𝜇 = 50) + P(x > 52 when𝜇 = 50)\n",
    "\n",
    "z1 = (48-50)/ (2.5/math.sqrt(10)) # applying central limit theroem\n",
    "z2 = (52-50)/ (2.5/math.sqrt(10))\n",
    "# α = P(Z < z1) + P(Z>z2)\n",
    "α = norm.cdf(z1) +(1 - norm.cdf(z2))\n",
    "print('Calculated α value is: ', round(α, 4))\n",
    "\n",
    "# β = P(48 <x̅ < 52) at 𝜇 = 52 # type II error\n",
    "# β = P(((48-52)/(2.5/math.sqrt(10)) < Z < (52-52)/((2.5/math.sqrt(10)))\n",
    "\n",
    "z3 = (48-52)/ (2.5/math.sqrt(10))\n",
    "z4 = (52-52)/(2.5/math.sqrt(10))\n",
    "# β = P(Z < z4) - P(Z<z3)\n",
    "β = norm.cdf(z4) - norm.cdf(z3)\n",
    "print('Calculated β value at 𝜇 = 52 is: ', round(β, 4))\n",
    "\n",
    "\n",
    "# β = P(48 <x̅ < 52) at 𝜇 = 50.5 # type II error\n",
    "# β = P(((48-50.5)/(2.5/math.sqrt(10)) < Z < (52-50.5)/((2.5/math.sqrt(10)))\n",
    "\n",
    "z5 = (48-50.5)/ (2.5/math.sqrt(10))\n",
    "z6 = (52-50.5)/(2.5/math.sqrt(10))\n",
    "# β = P(Z < z6) - P(Z<z5)\n",
    "β = norm.cdf(z6) - norm.cdf(z5)\n",
    "print('Calculated β value at 𝜇 = 50.5 is: ', round(β, 4))"
   ]
  },
  {
   "cell_type": "code",
   "execution_count": 8,
   "metadata": {},
   "outputs": [
    {
     "name": "stdout",
     "output_type": "stream",
     "text": [
      "Calculated α value is:  0.0569\n",
      "Calculated β value at 𝜇 = 52 is:  0.0975\n",
      "Calculated β value at 𝜇 = 50.5 is:  0.8618\n"
     ]
    }
   ],
   "source": [
    "# α = P(type I error) = P(reject H0 when H0 is true)\n",
    "\n",
    "# let say 𝜇 = 50, 𝜎 = 2.5\n",
    "# α = P(48.81 <x̅ < 51.19) =  P(x < 48.81 when𝜇 = 50) + P(x > 51.19 when𝜇 = 50)\n",
    "\n",
    "z1 = (48.81-50)/ (2.5/math.sqrt(16)) # applying central limit theroem\n",
    "z2 = (51.19-50)/ (2.5/math.sqrt(16))\n",
    "# α = P(Z < z1) + P(Z>z2)\n",
    "α = norm.cdf(z1) +(1 - norm.cdf(z2))\n",
    "print('Calculated α value is: ', round(α, 4))\n",
    "\n",
    "# β = P(48.81 <x̅ < 51.19) at 𝜇 = 52 # type II error\n",
    "# β = P(((48.81-52)/(2.5/math.sqrt(16)) < Z < (51.19-52)/((2.5/math.sqrt(16)))\n",
    "\n",
    "z3 = (48.81-52)/ (2.5/math.sqrt(16))\n",
    "z4 = (51.19-52)/(2.5/math.sqrt(16))\n",
    "# β = P(Z < z4) - P(Z<z3)\n",
    "β = norm.cdf(z4) - norm.cdf(z3)\n",
    "print('Calculated β value at 𝜇 = 52 is: ', round(β, 4))\n",
    "\n",
    "\n",
    "# β = P(48.81 <x̅ < 51.19) at 𝜇 = 50.5 # type II error\n",
    "# β = P(((48.81-50.5)/(2.5/math.sqrt(16)) < Z < (51.19-50.5)/((2.5/math.sqrt(16)))\n",
    "\n",
    "z5 = (48.81-50.5)/ (2.5/math.sqrt(16))\n",
    "z6 = (51.19-50.5)/(2.5/math.sqrt(16))\n",
    "# β = P(Z < z6) - P(Z<z5)\n",
    "β = norm.cdf(z6) - norm.cdf(z5)\n",
    "print('Calculated β value at 𝜇 = 50.5 is: ', round(β, 4))"
   ]
  },
  {
   "cell_type": "code",
   "execution_count": 9,
   "metadata": {},
   "outputs": [
    {
     "name": "stdout",
     "output_type": "stream",
     "text": [
      "Calculated α value is:  0.0115\n",
      "Calculated β value at 𝜇 = 52 is:  0.2508\n",
      "Calculated β value at 𝜇 = 50.5 is:  0.9576\n"
     ]
    }
   ],
   "source": [
    "# α = P(type I error) = P(reject H0 when H0 is true)\n",
    "\n",
    "# let say 𝜇 = 50, 𝜎 = 2.5\n",
    "# α = P(48.42 <x̅ < 51.58) =  P(x < 48.42 when𝜇 = 50) + P(x > 51.58 when𝜇 = 50)\n",
    "\n",
    "z1 = (48.42-50)/ (2.5/math.sqrt(16)) # applying central limit theroem\n",
    "z2 = (51.58-50)/ (2.5/math.sqrt(16))\n",
    "# α = P(Z < z1) + P(Z>z2)\n",
    "α = norm.cdf(z1) +(1 - norm.cdf(z2))\n",
    "print('Calculated α value is: ', round(α, 4))\n",
    "\n",
    "# β = P(48.42 <x̅ < 51.58) at 𝜇 = 52 # type II error\n",
    "# β = P(((48.42-52)/(2.5/math.sqrt(16)) < Z < (51.58-52)/((2.5/math.sqrt(16)))\n",
    "\n",
    "z3 = (48.42-52)/ (2.5/math.sqrt(16))\n",
    "z4 = (51.58-52)/(2.5/math.sqrt(16))\n",
    "# β = P(Z < z4) - P(Z<z3)\n",
    "β = norm.cdf(z4) - norm.cdf(z3)\n",
    "print('Calculated β value at 𝜇 = 52 is: ', round(β, 4))\n",
    "\n",
    "\n",
    "# β = P(48.81 <x̅ < 51.19) at 𝜇 = 50.5 # type II error\n",
    "# β = P(((48.81-50.5)/(2.5/math.sqrt(16)) < Z < (51.19-50.5)/((2.5/math.sqrt(16)))\n",
    "\n",
    "z5 = (48.42-50.5)/ (2.5/math.sqrt(16))\n",
    "z6 = (51.58-50.5)/(2.5/math.sqrt(16))\n",
    "# β = P(Z < z6) - P(Z<z5)\n",
    "β = norm.cdf(z6) - norm.cdf(z5)\n",
    "print('Calculated β value at 𝜇 = 50.5 is: ', round(β, 4))"
   ]
  },
  {
   "cell_type": "markdown",
   "metadata": {},
   "source": [
    "##### updated table - \n",
    " \n",
    "| Acceptance Region | Sample Size | α | β at μ = 52 | β at μ = 50.5| \n",
    "| ---- | ---- | ---- | ---- | ---- |\n",
    "| 48.5 <x̅ < 51.5 | 10 |0.0578|0.2635|0.8913|\n",
    "| 48 <x̅ < 52 | 10 | 0.0114 |0.5  | 0.9703 |\n",
    "| 48.81 <x̅ < 51.9 | 16 | 0.0569 |0.0975  |  0.8618|\n",
    "| 48.42 <x̅ < 51.58 | 16 | 0.0115 | 0.2508 | 0.9576 |"
   ]
  },
  {
   "cell_type": "markdown",
   "metadata": {},
   "source": [
    "##### Problem Statement 8:\n",
    "Find the t-score for a sample size of 16 taken from a population with mean 10 when\n",
    "the sample mean is 12 and the sample standard deviation is 1.5."
   ]
  },
  {
   "cell_type": "code",
   "execution_count": 10,
   "metadata": {},
   "outputs": [
    {
     "name": "stdout",
     "output_type": "stream",
     "text": [
      "The value of t-score is : 5.333333333333333\n"
     ]
    }
   ],
   "source": [
    "pMean = 10 # population mean\n",
    "sMean = 12 # sample mean\n",
    "sSize = 16 # sample size\n",
    "sStd = 1.5 # sample standard deviation\n",
    "\n",
    "# Function for calculating t-score\n",
    "\n",
    "def t_score(pMean, sMean, sStd, sSize):\n",
    "    se = sStd / math.sqrt(sSize)\n",
    "    score = (sMean - pMean) / se\n",
    "    return score\n",
    "val=t_score(pMean, sMean, sStd, sSize)\n",
    "print(\"The value of t-score is :\", val)"
   ]
  },
  {
   "cell_type": "markdown",
   "metadata": {},
   "source": [
    "###### Problem Statement 9:\n",
    "Find the t-score below which we can expect 99% of sample means will fall if samples\n",
    "of size 16 are taken from a normally distributed population."
   ]
  },
  {
   "cell_type": "code",
   "execution_count": 11,
   "metadata": {},
   "outputs": [
    {
     "name": "stdout",
     "output_type": "stream",
     "text": [
      "Critical t-score value is:  2.602480294995493\n"
     ]
    }
   ],
   "source": [
    "from scipy.stats import t\n",
    "#𝑑𝑓 = N − 1\n",
    "\n",
    "alpha = 0.01 # significance level (1- 0.99) \n",
    "df = 15 # degree of freedom (16-1)\n",
    "cv = t.ppf(1.0 - alpha, df) # critical value\n",
    "print('Critical t-score value is: ', cv)"
   ]
  },
  {
   "cell_type": "markdown",
   "metadata": {},
   "source": [
    "##### Problem Statement 10:\n",
    "If a random sample of size 25 drawn from a normal population gives a mean of 60 and a standard deviation of 4, find the range of t-scores where we can expect to find the middle 95% of all sample means. Compute the probability that (−𝑡0.05 <𝑡<𝑡0.10)."
   ]
  },
  {
   "cell_type": "code",
   "execution_count": 12,
   "metadata": {},
   "outputs": [
    {
     "name": "stdout",
     "output_type": "stream",
     "text": [
      "Critical t-score value is:  2.0638985616280205\n"
     ]
    }
   ],
   "source": [
    "from scipy.stats import t\n",
    "\n",
    "sMean = 60 # sample mean\n",
    "sSize = 25 # sample size\n",
    "sStd = 4 # sample standard deviation\n",
    "\n",
    "df = 24 # degree of freedoms = 25-1(N-1)\n",
    "\n",
    "# s = 0.05, 5% significance level\n",
    "# for a two-tailed test alpha =s / 2 = 0.05/2 = 0.025\n",
    "\n",
    "alpha = 0.025\n",
    "\n",
    "cv = t.ppf(1.0 - alpha, df) # critical value\n",
    "print('Critical t-score value is: ', cv)\n"
   ]
  },
  {
   "cell_type": "markdown",
   "metadata": {},
   "source": [
    "###### Compute the probability that (−𝑡0.05 <𝑡<𝑡0.10)\n",
    "P((−𝑡0.05 <𝑡 <𝑡0.10)) represents an area of 0.10 at the right tail and an area of 0.05 at the left tail.            \n",
    "P((−𝑡0.05 <𝑡 <𝑡0.10)) = (1 - 0.10 - 0.05) = 0.85                 \n",
    "\n",
    "So, computed probaility is: 0.85              "
   ]
  },
  {
   "cell_type": "markdown",
   "metadata": {},
   "source": [
    "##### Problem Statement 11:\n",
    "Two-tailed test for difference between two population means\n",
    "Is there evidence to conclude that the number of people travelling from Bangalore to\n",
    "Chennai is different from the number of people travelling from Bangalore to Hosur in\n",
    "a week, given the following:                           \n",
    "Population 1: Bangalore to Chennai n1 = 1200                                                  \n",
    "x1 = 452                                                             \n",
    "s1 = 212                                                   \n",
    "Population 2: Bangalore to Hosur n2 = 800                          \n",
    "x2 = 523                                       \n",
    "s2 = 185                                                        "
   ]
  },
  {
   "cell_type": "code",
   "execution_count": 13,
   "metadata": {},
   "outputs": [
    {
     "name": "stdout",
     "output_type": "stream",
     "text": [
      "Computed Standard Error is:  8.957375917830698\n",
      "Computed value of Z is:  -7.926428526759299\n",
      "0.975\n",
      "The value of z_critical is:  1.959963984540054\n",
      "Null Hypothesis Accepted\n"
     ]
    }
   ],
   "source": [
    "import math\n",
    "from scipy import stats\n",
    "\n",
    "# H0: 𝜇1 - 𝜇2 = 0 # null hypothesis\n",
    "\n",
    "# H0: 𝜇1 = 𝜇2\n",
    "# H1: 𝜇1 ≠ 𝜇2\n",
    "\n",
    "x1 = 452\n",
    "x2 = 523\n",
    "s1 = 212\n",
    "n1 = 1200\n",
    "s2 = 185\n",
    "n2 = 800\n",
    "\n",
    "def standard_error(s1, n1, s2, n2):\n",
    "    stdErr = math.sqrt(((s1)**2/n1)+((s2)**2/n2))\n",
    "    return stdErr\n",
    "\n",
    "SE = standard_error(s1, n1, s2, n2)\n",
    "print('Computed Standard Error is: ', SE)\n",
    "\n",
    "def Z_test(x1, x2, SE):  # Z test calculation\n",
    "    Z_val = (x1 - x2) / SE\n",
    "    return Z_val\n",
    "\n",
    "Z_score = Z_test(x1, x2, SE)\n",
    "print('Computed value of Z is: ', Z_score)\n",
    "\n",
    "# Considering significance level 5% = 0.05\n",
    "alpha=0.05\n",
    "p=1-alpha/2\n",
    "print(p)\n",
    "Z_critical=stats.norm.ppf(p)\n",
    "print('The value of z_critical is: ',Z_critical)\n",
    "\n",
    "def check_test(Z_score,Z_critical):\n",
    "    if Z_score>Z_critical:\n",
    "        print(\"Null Hypothesis Rejected\")\n",
    "    else:\n",
    "        print(\"Null Hypothesis Accepted\")\n",
    "check_test(Z_score,Z_critical)"
   ]
  },
  {
   "cell_type": "markdown",
   "metadata": {},
   "source": [
    "###### Conclusions\n",
    "The criticial value of Z is: Z = +1.96 and -1.96 at 5% level of significance.\n",
    "Our computed value of Z is: Z = -7.926.\n",
    "\n",
    "So, computed value falls in rejection region. Hence we reject the Null Hypothesis.\n",
    "Hence the mean of the two population are different."
   ]
  },
  {
   "cell_type": "markdown",
   "metadata": {},
   "source": [
    "###### Problem Statement 12:\n",
    "Is there evidence to conclude that the number of people preferring Duracell battery is different from the number of people preferring Energizer battery, given the following:\n",
    "Population 1: Duracell                   \n",
    "n1 = 100                     \n",
    "x1 = 308                              \n",
    "s1 = 84                                  \n",
    "Population 2: Energizer                                      \n",
    "n2 = 100                                  \n",
    "x2 = 254                                    \n",
    "s2 = 67                                          "
   ]
  },
  {
   "cell_type": "code",
   "execution_count": 14,
   "metadata": {},
   "outputs": [
    {
     "name": "stdout",
     "output_type": "stream",
     "text": [
      "Computed Standard Error is:  10.74476616776745\n",
      "Computed value of Z is:  5.025702668336442\n",
      "0.975\n",
      "The value of z_critical is:  1.959963984540054\n",
      "Null Hypothesis Rejected\n"
     ]
    }
   ],
   "source": [
    "import math\n",
    "from scipy import stats\n",
    "# H0: 𝜇1 - 𝜇2 = 0 # null hypothesis\n",
    "\n",
    "# H0: 𝜇1 = 𝜇2\n",
    "# H1: 𝜇1 ≠ 𝜇2\n",
    "\n",
    "n1 = 100                     \n",
    "x1 = 308                              \n",
    "s1 = 84\n",
    "n2 = 100                                  \n",
    "x2 = 254                                    \n",
    "s2 = 67\n",
    "\n",
    "def standard_error(s1, n1, s2, n2):\n",
    "    stdErr = math.sqrt(((s1)**2/n1)+((s2)**2/n2))\n",
    "    return stdErr\n",
    "\n",
    "SE = standard_error(s1, n1, s2, n2)\n",
    "print('Computed Standard Error is: ', SE)\n",
    "\n",
    "def Z_test(x1, x2, SE):  # Z test calculation\n",
    "    Z_val = (x1 - x2) / SE\n",
    "    return Z_val\n",
    "\n",
    "Z_score = Z_test(x1, x2, SE)\n",
    "print('Computed value of Z is: ', Z_score)\n",
    "\n",
    "# Considering significance level 5% = 0.05\n",
    "alpha=0.05\n",
    "p=1-alpha/2\n",
    "print(p)\n",
    "Z_critical=stats.norm.ppf(p)\n",
    "print('The value of z_critical is: ',Z_critical)\n",
    "\n",
    "def check_test(Z_score,Z_critical):\n",
    "    if Z_score>Z_critical:\n",
    "        print(\"Null Hypothesis Rejected\")\n",
    "    else:\n",
    "        print(\"Null Hypothesis Accepted\")\n",
    "check_test(Z_score,Z_critical)"
   ]
  },
  {
   "cell_type": "markdown",
   "metadata": {},
   "source": [
    "##### Conclusions\n",
    "The criticial value of Z is: Z = +1.96 and -1.96 at 5% level of significance.                  \n",
    "Our computed value of Z is: Z = 5.026.                        \n",
    "\n",
    "So, computed value falls in rejection region. Hence we reject the Null Hypothesis.                \n",
    "Hence the number of people preferring Duracel battery is different than the number of people preferring Energizer."
   ]
  },
  {
   "cell_type": "markdown",
   "metadata": {},
   "source": [
    "###### Problem Statement 13:\n",
    "Pooled estimate of the population variance Does the data provide sufficient evidence to conclude that average percentage increase in the price of sugar differs when it is sold at two different prices?\n",
    "Population 1:                                 \n",
    "Price of sugar = Rs. 27.50                   \n",
    "n1 = 14                          \n",
    "x1 = 0.317%                           \n",
    "s1 = 0.12%                            \n",
    "Population 2:                             \n",
    "Price of sugar = Rs. 20.00                   \n",
    "n2 = 9                       \n",
    "x2 = 0.21%                               \n",
    "s2 = 0.11%                         "
   ]
  },
  {
   "cell_type": "code",
   "execution_count": 15,
   "metadata": {},
   "outputs": [
    {
     "name": "stdout",
     "output_type": "stream",
     "text": [
      "Computed Standard Error is:  0.04968532879234398\n",
      "Computed value of Z is:  2.15355322387416\n",
      "Critical t-score value is:  2.079613844727662\n"
     ]
    }
   ],
   "source": [
    "import math\n",
    "from scipy import stats\n",
    "from scipy.stats import t\n",
    "\n",
    "x1 = 0.317\n",
    "x2 = 0.21\n",
    "s1 = 0.12\n",
    "n1 = 14\n",
    "s2 = 0.11\n",
    "n2 = 9\n",
    "\n",
    "# H0: 𝜇1 = 𝜇2\n",
    "# H1: 𝜇1 ≠ 𝜇2\n",
    "\n",
    "Sp = math.sqrt((((n1-1)*(s1)**2) +  ((n2-1)*(s2)**2)) / (n1+n2-2))  # the pooled estimate of the common standard deviaton\n",
    "\n",
    "def standard_error(Sp, n1, n2):\n",
    "    stdErr = Sp * math.sqrt((1/n1)+(1/n2))\n",
    "    return stdErr\n",
    "\n",
    "SE = standard_error(Sp,n1,n2)\n",
    "print('Computed Standard Error is: ', SE)\n",
    "\n",
    "def Z_test(x1, x2, SE):  # Z test calculation\n",
    "    Z_val = (x1 - x2) / SE\n",
    "    return Z_val\n",
    "\n",
    "Z_score = Z_test(x1, x2, SE)\n",
    "print('Computed value of Z is: ', Z_score)\n",
    "\n",
    "# Considering significance level 5% = 0.05\n",
    "\n",
    "# calculate the critical value\n",
    "#df = n1+n2-2 = 14+9-2 = 21 -> degree of freedom\n",
    "# this will be a two-tailed test\n",
    "# alpha=0.05/2 =0.025\n",
    "\n",
    "alpha = 0.025 \n",
    "df = 21\n",
    "cv = t.ppf(1.0 - alpha, df) # critical value\n",
    "print('Critical t-score value is: ', cv)"
   ]
  },
  {
   "cell_type": "markdown",
   "metadata": {},
   "source": [
    "###### Conclusions\n",
    "The criticial value of t is: t = 2.08 at 5% level of significance.            \n",
    "Our computed value of t is: t = 2.15.                   \n",
    "\n",
    "Decision rule is reject H0 if t_critical <= t_computed. Here 2.08 < 2.15, Hence we may reject the Null Hypothesis at 5% level of significance.                      \n",
    "So, average percentage increase of price of sugar will differ.            "
   ]
  },
  {
   "cell_type": "markdown",
   "metadata": {},
   "source": [
    "##### Problem Statement 14:\n",
    "The manufacturers of compact disk players want to test whether a small price reduction is enough to increase sales of their product. Is there evidence that the small price reduction is enough to increase sales of compact disk players?                                \n",
    "Population 1: Before reduction                                    \n",
    "n1 = 15                                             \n",
    "x1 = Rs. 6598                                                \n",
    "s1 = Rs. 844                                                    \n",
    "Population 2: After reduction                                      \n",
    "n2 = 12                                                                            \n",
    "x2 = RS. 6870                                                                        \n",
    "s2 = Rs. 669                                                                                 "
   ]
  },
  {
   "cell_type": "code",
   "execution_count": 16,
   "metadata": {},
   "outputs": [
    {
     "name": "stdout",
     "output_type": "stream",
     "text": [
      "Computed Standard Error is:  298.9569366982476\n",
      "Computed value of Z is:  0.9098300343990459\n",
      "Critical t-score value is:  1.3163450765592588\n"
     ]
    }
   ],
   "source": [
    "import math\n",
    "from scipy import stats\n",
    "from scipy.stats import t\n",
    "\n",
    "# H0: 𝜇1 = 𝜇2\n",
    "# H1: 𝜇1 ≠ 𝜇2\n",
    "\n",
    "x1 = 6598\n",
    "x2 = 6870\n",
    "s1 = 844\n",
    "n1 = 15\n",
    "s2 = 669\n",
    "n2 = 12\n",
    "\n",
    "Sp = math.sqrt((((n1-1)*(s1)**2) +  ((n2-1)*(s2)**2)) / (n1+n2-2))  # the pooled estimate of the common standard deviaton\n",
    "\n",
    "def standard_error(Sp, n1, n2):\n",
    "    stdErr = Sp * math.sqrt((1/n1)+(1/n2))\n",
    "    return stdErr\n",
    "\n",
    "SE = standard_error(Sp,n1,n2)\n",
    "print('Computed Standard Error is: ', SE)\n",
    "\n",
    "def Z_test(x1, x2, SE):  # Z test calculation\n",
    "    Z_val = (x2 - x1) / SE\n",
    "    return Z_val\n",
    "\n",
    "Z_score = Z_test(x1, x2, SE)\n",
    "print('Computed value of Z is: ', Z_score)\n",
    "\n",
    "# calculate the critical value\n",
    "#df = n1+n2-2 = 15+12-2 = 25 -> degree of freedom\n",
    "# this will be a two-tailed test\n",
    "\n",
    "alpha = 0.1 #let say significance level 10% \n",
    "df = 25\n",
    "cv = t.ppf(1.0 - alpha, df) # critical value\n",
    "print('Critical t-score value is: ', cv)"
   ]
  },
  {
   "cell_type": "markdown",
   "metadata": {},
   "source": [
    "###### Conclusions\n",
    "The criticial value of t is: t = +1.316 at 10% level of significance.            \n",
    "Our computed value of t is: t = 0.91.         \n",
    "\n",
    "Decision rule is reject H0 if t_critical <= t_computed. Here 1.316 not <= 0.91, Hence we may not reject the Null Hypothesis.\n",
    "So the small price reduction is not enough to increase sales of compact disk players."
   ]
  },
  {
   "cell_type": "markdown",
   "metadata": {},
   "source": [
    "###### Problem Statement 15:\n",
    "Comparisons of two population proportions when the hypothesized difference is zero Carry out a two-tailed test of the equality of banks’ share of the car loan market in 1980 and 1995.                   \n",
    "Population 1: 1980                        \n",
    "n1 = 100                     \n",
    "x1 = 53                    \n",
    "𝑝 1 = 0.53                 \n",
    "Population 2: 1985                    \n",
    "n2 = 100                    \n",
    "x2 = 43                                  \n",
    "𝑝 2= 0.43                               "
   ]
  },
  {
   "cell_type": "code",
   "execution_count": 17,
   "metadata": {},
   "outputs": [
    {
     "name": "stdout",
     "output_type": "stream",
     "text": [
      "p_hat is: 0.48\n",
      "Calculated standard error is:  0.07065408693062278\n",
      "Calculated Z test value is:  1.4153462926807452\n",
      "The critical value for Z is:  1.6448536269514722\n",
      "0.95\n"
     ]
    }
   ],
   "source": [
    "import math\n",
    "from scipy.stats import norm\n",
    "\n",
    "n1 = 100 # sample size\n",
    "x1 = 53 # number of success in sample n1\n",
    "p1 = 0.53 # sample1 proportion\n",
    "\n",
    "n2 = 100 # sample size\n",
    "x2 = 43 # number of success in sample n2\n",
    "p2 = 0.43 # sample2 proportion\n",
    "\n",
    "\n",
    "# H0: p1 = p2 -> null hypothesis\n",
    "# H1: p1 ≠ p2 -> alternate hypothesis\n",
    "\n",
    "p_hat = (x1+x2) / (n1+n2) # pooled proportion\n",
    "print(\"p_hat is:\" ,p_hat)\n",
    "\n",
    "def standard_error(p_hat, n1, n2):\n",
    "    std_error = math.sqrt(((p_hat/n1)*(1-p_hat)) + ((p_hat/n2)*(1-p_hat)))\n",
    "    return std_error\n",
    "\n",
    "se = standard_error(p_hat, n1, n2)\n",
    "print('Calculated standard error is: ',se)\n",
    "\n",
    "# calculate Z-test statistics\n",
    "\n",
    "def Z_score(p1, p2, se):\n",
    "    Z_test = (p1-p2) / se\n",
    "    return Z_test\n",
    "Z_val = Z_score(p1, p2, se)\n",
    "print('Calculated Z test value is: ',Z_val)\n",
    "\n",
    "# Considering significance level 10% = 0.1\n",
    "# So, Alpha = 0.1\n",
    "# As two-tailed test then, Alpha/2 = 0.05\n",
    "# probability = 1 - alpha/2 = 1-0.05 = 0.95\n",
    "p = 0.95\n",
    "value = norm.ppf(p) # returns observaton values for provided probability which is less than or equal to the provided probability\n",
    "print('The critical value for Z is: ', value)\n",
    "# confirm with cdf\n",
    "p = norm.cdf(value) # Returns the probability for an observation equal to or lesser than a specific value from the distribution\n",
    "print(p)"
   ]
  },
  {
   "cell_type": "markdown",
   "metadata": {},
   "source": [
    "**Conclusions**                  \n",
    "The criticial value of Z is: Z = -1.645 and + 1.645 at 10% level of significance.            \n",
    "Our computed value of Z is: Z = 1.415                                \n",
    "\n",
    "So, computed value falls in acceptance region. Hence we accept the Null Hypothesis.\n",
    "Hence two population proportions are equal."
   ]
  },
  {
   "cell_type": "markdown",
   "metadata": {},
   "source": [
    "##### Problem Statement 16:                                 \n",
    "Carry out a one-tailed test to determine whether the population proportion of traveler’s check buyers who buy at least $2500 in checks when sweepstakes prizes are offered as at least 10% higher than the proportion of such buyers when no sweepstakes are on.\n",
    "Population 1: With sweepstakes                        \n",
    "n1 = 300                   \n",
    "x1 = 120                \n",
    "𝑝1 = 0.40                   \n",
    "Population 2: No sweepstakes                  \n",
    "n2 = 700                   \n",
    "x2 = 140                 \n",
    "𝑝2 = 0.20                    "
   ]
  },
  {
   "cell_type": "code",
   "execution_count": 18,
   "metadata": {},
   "outputs": [
    {
     "name": "stdout",
     "output_type": "stream",
     "text": [
      "p_hat is: 0.26\n",
      "Calculated standard error is:  0.030268638492513603\n",
      "Calculated Z test value is:  3.3037495236111525\n",
      "The critical value for Z is:  1.2815515655446004\n",
      "0.8999999999999999\n"
     ]
    }
   ],
   "source": [
    "import math\n",
    "from scipy.stats import norm\n",
    "\n",
    "n1 = 300 # sample size\n",
    "x1 = 120 # number of success in sample n1\n",
    "p1 = 0.40 # sample1 proportion\n",
    "\n",
    "n2 = 700 # sample size\n",
    "x2 = 140 # number of success in sample n2\n",
    "p2 = 0.20 # sample2 proportion\n",
    "D = 0.10\n",
    "\n",
    "# H0: p1 - p2 <= 0.1 -> null hypothesis\n",
    "# H1: p1 - p2 > 0.1 -> alternate hypothesis\n",
    "\n",
    "p_hat = (x1+x2) / (n1+n2) # pooled proportion\n",
    "print(\"p_hat is:\" ,p_hat)\n",
    "\n",
    "def standard_error(p_hat, n1, n2):\n",
    "    std_error = math.sqrt(((p_hat/n1)*(1-p_hat)) + ((p_hat/n2)*(1-p_hat)))\n",
    "    return std_error\n",
    "\n",
    "se = standard_error(p_hat, n1, n2)\n",
    "print('Calculated standard error is: ',se)\n",
    "\n",
    "# calculate Z-test statistics\n",
    "\n",
    "def Z_score(p1, p2, D, se):\n",
    "    Z_test = (p1-p2-D) / se\n",
    "    return Z_test\n",
    "Z_val = Z_score(p1, p2, D, se)\n",
    "print('Calculated Z test value is: ',Z_val)\n",
    "\n",
    "# Considering significance level 10% = 0.1\n",
    "# So, Alpha = 0.1\n",
    "# As one-tailed test then, Alpha = 0.1\n",
    "# probability = 1 - 0.1 = 0.90\n",
    "p = 0.90\n",
    "value = norm.ppf(p) # returns observaton values for provided probability which is less than or equal to the provided probability\n",
    "print('The critical value for Z is: ', value)\n",
    "# confirm with cdf\n",
    "p = norm.cdf(value) # Returns the probability for an observation equal to or lesser than a specific value from the distribution\n",
    "print(p)"
   ]
  },
  {
   "cell_type": "markdown",
   "metadata": {},
   "source": [
    "##### Conclusions\n",
    "The criticial value of Z is: Z = 1.2815 at 10% level of significance.\n",
    "Our computed value of Z is: Z = 3.30375\n",
    "\n",
    "So, computed value falls in rejection region. Hence we reject the Null Hypothesis.\n",
    "Hence alternate hypothesis is true here."
   ]
  },
  {
   "cell_type": "markdown",
   "metadata": {},
   "source": [
    "##### Problem Statement 17:\n",
    "A die is thrown 132 times with the following results: Number turned up: 1, 2, 3, 4, 5, 6 Frequency: 16, 20, 25, 14, 29, 28 Is the die unbiased? Consider the degrees of freedom as 𝑝 − 1."
   ]
  },
  {
   "cell_type": "code",
   "execution_count": 19,
   "metadata": {},
   "outputs": [
    {
     "name": "stdout",
     "output_type": "stream",
     "text": [
      "Calculated Chi-Square value is:  9.0\n",
      "Critical value of Chi-Square is:  11.070497693516351\n"
     ]
    }
   ],
   "source": [
    "from scipy.stats import chi2\n",
    "\n",
    "# H0: The die is unbiased\n",
    "# H1: The die is biased\n",
    "\n",
    "# In case of null hypothesis, the die would be unbiased if the frequency of each number is equal.\n",
    "# frequency Expected = 132/6 = 22 for each number.\n",
    "\n",
    "O = [16, 20, 25, 14, 29, 28] # Observed_frequency\n",
    "E = 22 # Expected_frequency for each number\n",
    "\n",
    "def chiSquare_Val(O, E):\n",
    "    sum = 0\n",
    "    for num in O:\n",
    "        sum += (num-E)**2\n",
    "    \n",
    "    chi_val = sum / E\n",
    "    return chi_val\n",
    "\n",
    "X_sqr = chiSquare_Val(O, E)\n",
    "\n",
    "print('Calculated Chi-Square value is: ', X_sqr)\n",
    "\n",
    "\n",
    "# Considering significace level ∝ = 5% = 0.05\n",
    "# degree of freedom = p-1 = 6-1=5\n",
    "\n",
    "# prob = 1-0.05 = 0.95\n",
    "p = 0.95\n",
    "dof = 5\n",
    "\n",
    "critical = chi2.ppf(p, dof)\n",
    "print('Critical value of Chi-Square is: ', critical)"
   ]
  },
  {
   "cell_type": "markdown",
   "metadata": {},
   "source": [
    "##### Conclusions\n",
    "The criticial value of Chi-Square is: Χ^2 = 11.07 at 5% level of significance.\n",
    "Our computed value of Chi-Square is: Χ^2 = 9.0\n",
    "\n",
    "So, computed value falls in acceptance region. Hence we accept the Null Hypothesis.\n",
    "Hence the die is unbiased."
   ]
  },
  {
   "cell_type": "markdown",
   "metadata": {},
   "source": [
    "#### Problem Statement 18: \n",
    "In a certain town, there are about one million eligible voters. A simple random sample of 10,000 eligible voters was chosen to study the relationship between gender and participation in the last election. The results are summarized in the following 2X2 (read two by two) contingency table:\n",
    "\n",
    " \n",
    "| | Men | Women | \n",
    "| ---- | ---- | ---- |\n",
    "| Voted | 2792| 3591 |\n",
    "| Not Voted| 1486 | 2131 |\n",
    "\n",
    "\n",
    "We would want to check whether being a man or a woman (columns) is independent of having voted in the last election (rows). In other words, is “gender and voting independent”? "
   ]
  },
  {
   "cell_type": "code",
   "execution_count": 20,
   "metadata": {},
   "outputs": [
    {
     "name": "stdout",
     "output_type": "stream",
     "text": [
      "Observed table: \n",
      "            Men  Women\n",
      "Voted      2792   3591\n",
      "Not Voted  1486   2131 \n",
      "\n",
      "Expected table: \n",
      "              Men   Women\n",
      "Voted      2731.0  3652.0\n",
      "Not Voted  1547.0  2070.0 \n",
      "\n",
      "Computed value of Chi_Square is:  6.6\n",
      "\n",
      "Critical value of Chi-Square is:  3.841458820694124\n"
     ]
    }
   ],
   "source": [
    "import pandas as pd\n",
    "from scipy.stats import chi2\n",
    "\n",
    "# creating view for Observed table\n",
    "\n",
    "voter = {'Men': [2792, 1486], 'Women': [3591, 2131]}\n",
    "df = pd.DataFrame(voter, columns = ['Men', 'Women'], index = ['Voted', 'Not Voted'])\n",
    "print('Observed table: ')\n",
    "print(df,\"\\n\")\n",
    "\n",
    "# H0: Gender and voting is independent --> Null hypothesis\n",
    "#H1 : Gender and voting is not independent --> Alternate hypothesis\n",
    "\n",
    "# Now we need to create the 'Expected table' for the mentioned null hypothesis\n",
    "\n",
    "# Total men and women / Total voted and not voted\n",
    "Total_Voters_sample = 10000\n",
    "\n",
    "# Total men voted and not voted\n",
    "T_men = df.sum(axis=0)[0]\n",
    "\n",
    "# Total women voted and not voted\n",
    "T_women = df.sum(axis=0)[1]\n",
    "\n",
    "# Total voted (Men + Women)\n",
    "T_voted = df.sum(axis=1)[0]\n",
    "\n",
    "# Total not voted (Men + Women)\n",
    "T_notVoted = df.sum(axis=1)[1]\n",
    "\n",
    "# Creating data for Expected table\n",
    "Men_Voted = round((T_voted / Total_Voters_sample)* T_men) # rounding off the numbers\n",
    "Men_NotVoted = round((T_notVoted / Total_Voters_sample) * T_men )\n",
    "Women_Voted = round((T_voted / Total_Voters_sample) * T_women)\n",
    "Women_NotVoted = round((T_notVoted / Total_Voters_sample) * T_women)\n",
    "\n",
    "\n",
    "# Creating view for Expected table\n",
    "\n",
    "voter = {'Men': [Men_Voted, Men_NotVoted], 'Women': [Women_Voted, Women_NotVoted]}\n",
    "df_exp = pd.DataFrame(voter, columns = ['Men', 'Women'], index = ['Voted', 'Not Voted'])\n",
    "print('Expected table: ')\n",
    "print(df_exp,\"\\n\")\n",
    "\n",
    "\n",
    "# Now applying Chi-Square independence formula on Observed and Expected table\n",
    "\n",
    "s1 = ((df['Men'][0] - df_exp['Men'][0])**2) / df_exp['Men'][0]\n",
    "s2 = ((df['Men'][1] - df_exp['Men'][1])**2) / df_exp['Men'][1]\n",
    "s3 = ((df['Women'][0] - df_exp['Women'][0])**2) / df_exp['Women'][0]\n",
    "s4 = ((df['Women'][1] - df_exp['Women'][1])**2) / df_exp['Women'][1]\n",
    "Chi_sqr = round((s1+s2+s3+s4), 1) # rounding off till one decimal place\n",
    "print('Computed value of Chi_Square is: ', Chi_sqr)\n",
    "\n",
    "# Considering significace level ∝ = 5% = 0.05\n",
    "# degree of freedom = (# of rows - 1) * (# of columns -1) = (2-1)*(2-1) =1\n",
    "\n",
    "# prob = 1-0.05 = 0.95\n",
    "p = 0.95\n",
    "dof = 1\n",
    "\n",
    "critical = chi2.ppf(p, dof)\n",
    "print('\\nCritical value of Chi-Square is: ', critical)"
   ]
  },
  {
   "cell_type": "markdown",
   "metadata": {},
   "source": [
    "##### Conclusions\n",
    "The criticial value of Chi-Square is: Χ^2 = 3.84 at 5% level of significance.\n",
    "Our computed value of Chi-Square is: Χ^2 = 6.6\n",
    "\n",
    "So, computed value falls in rejection region. Hence we reject the Null Hypothesis.\n",
    "Hence gender and voting is not independent"
   ]
  },
  {
   "cell_type": "markdown",
   "metadata": {},
   "source": [
    "### Problem Statement 19:  \n",
    " \n",
    "A sample of 100 voters are asked which of four candidates they would vote for in an election. The number supporting each candidate is given below: \n",
    " \n",
    " | Higgins| Reardon | White | Charlton|\n",
    "| ---- | ---- | ---- | ---|\n",
    "| 41 | 19| 24 | 16|\n",
    "\n",
    " \n",
    "Do the data suggest that all candidates are equally popular? [Chi-Square = 14.96, with 3 df, 𝑝< 0.05]"
   ]
  },
  {
   "cell_type": "code",
   "execution_count": 21,
   "metadata": {},
   "outputs": [
    {
     "name": "stdout",
     "output_type": "stream",
     "text": [
      "Calculated Chi-Square value is:  14.96\n",
      "Critical value of Chi-Square is:  7.814727903251179\n"
     ]
    }
   ],
   "source": [
    "from scipy.stats import chi2\n",
    "\n",
    "# H0: All the candidates are equally popular.\n",
    "# H1: The the candidates are not equally popular.\n",
    "\n",
    "# In case of null hypothesis, the candidates will be equally popular if equal number of voters supports each candidate.\n",
    "# frequency Expected = 100/4 = 25 for each candidate.\n",
    "\n",
    "O = [41, 19, 24, 16] # Observed_frequency\n",
    "E = 25 # Expected_frequency for each candidate\n",
    "\n",
    "def chiSquare_Val(O, E):\n",
    "    sum = 0\n",
    "    for num in O:\n",
    "        sum += (num-E)**2\n",
    "    \n",
    "    chi_val = sum / E\n",
    "    return chi_val\n",
    "\n",
    "X_sqr = chiSquare_Val(O, E)\n",
    "\n",
    "print('Calculated Chi-Square value is: ', X_sqr)\n",
    "\n",
    "# Given significace level ∝ = 5% = 0.05\n",
    "# degree of freedom = 4-1 = 3\n",
    "\n",
    "# prob = 1-0.05 = 0.95\n",
    "p = 0.95\n",
    "dof = 3\n",
    "\n",
    "critical = chi2.ppf(p, dof)\n",
    "print('Critical value of Chi-Square is: ', critical)"
   ]
  },
  {
   "cell_type": "markdown",
   "metadata": {},
   "source": [
    "### Conclusions\n",
    "    \n",
    "The criticial value of Chi-Square is: Χ^2 = 7.81 at 5% level of significance. <br>\n",
    "Our computed value of Chi-Square is: Χ^2 = 14.96 <br>\n",
    "\n",
    "So, computed value falls in rejection region. Hence we reject the Null Hypothesis. <br>\n",
    "Hence voters do not prefer the each candidate equally."
   ]
  },
  {
   "cell_type": "markdown",
   "metadata": {},
   "source": [
    "### Problem Statement 20: \n",
    "Children of three ages are asked to indicate their preference for three photographs of adults. Do the data suggest that there is a significant relationship between age and photograph preference? What is wrong with this study? [Chi-Square = 29.6, with 4 df: 𝑝  < 0.05].\n",
    "\n",
    "\n",
    "| |  | | |Photograph|\n",
    "| ---- | ---- | ---- | ---| ---|\n",
    "|||A|B|C|\n",
    "| Age of Child | 5-6 years| 18 | 22|20|\n",
    "| | 7-8 years | 2 | 28|40|\n",
    "||9-10 years|20|10|40|"
   ]
  },
  {
   "cell_type": "code",
   "execution_count": 22,
   "metadata": {},
   "outputs": [
    {
     "name": "stdout",
     "output_type": "stream",
     "text": [
      "Observed table: \n",
      "             A   B   C\n",
      "5-6 years   18  22  20\n",
      "7-8 years    2  28  40\n",
      "9-10 years  20  10  40 \n",
      "\n",
      "The expected list is:  [12.0, 14.0, 14.0, 18.0, 21.0, 21.0, 30.0, 35.0, 35.0]\n",
      "Calculated Chi-Square value is:  29.603174603174605\n",
      "Critical value of Chi-Square is:  9.487729036781154\n"
     ]
    }
   ],
   "source": [
    "import pandas as pd\n",
    "import numpy as np\n",
    "from scipy.stats import chi2\n",
    "\n",
    "# creating view for Observed table\n",
    "\n",
    "Photographs = {'A': [18, 2, 20], 'B': [22, 28, 10], 'C': [20, 40, 40]}\n",
    "df_Obs = pd.DataFrame(Photographs, columns = ['A', 'B', 'C'], index = ['5-6 years', '7-8 years', '9-10 years'])\n",
    "print('Observed table: ')\n",
    "print(df_Obs , \"\\n\")\n",
    "\n",
    "# H0: No significant relationship between age of child and photograph preference.\n",
    "# H1: There is significant relationship between age of child and photograph preference.\n",
    "\n",
    "#Now we need to create expected table for the above null hypothesis. Formula -> E = ((row total * column total) / grand total)\n",
    "\n",
    "Observed_lst = [18, 2, 20, 22, 28, 10, 20, 40, 40]\n",
    "\n",
    "# Total for all combinations\n",
    "grand_Total = sum(Observed_lst)\n",
    "\n",
    "# Total 'A' / 'B' / 'C' for 5-6 years, 7-8 years and 9-10 years\n",
    "T_col = df_Obs.sum(axis=0)\n",
    "\n",
    "# Total 5-6 years / 7-8 years / 9-10 years\n",
    "T_row = df_Obs.sum(axis=1)\n",
    "\n",
    "# Now creating the expected list corresponding to the observed list\n",
    "\n",
    "def exp_lst(T_col, T_row):\n",
    "    Expected_lst = []\n",
    "    for i in range(3):\n",
    "        for j in range(3):\n",
    "            res = (T_col[i] * T_row[j]) / grand_Total\n",
    "            Expected_lst.append(res)\n",
    "            \n",
    "    return Expected_lst\n",
    "\n",
    "Expected_lst = exp_lst(T_col, T_row)\n",
    "print('The expected list is: ', Expected_lst)\n",
    "\n",
    "# Now applying Chi-Square independence formula on Observed and Expected list\n",
    "\n",
    "O_val = np.array(Observed_lst) # observed value\n",
    "E_val = np.array(Expected_lst) # expected value\n",
    "\n",
    "def chi_sqr(O_val, E_val):\n",
    "    results = (O_val - E_val)**2 # (O-E)**2\n",
    "    sum_sqr = 0\n",
    "    for ele in range(len(results)):\n",
    "        sum_sqr += (results[ele] / E_val[ele])\n",
    "    return sum_sqr\n",
    "\n",
    "X_sqr = chi_sqr(O_val, E_val)\n",
    "\n",
    "print('Calculated Chi-Square value is: ', X_sqr)\n",
    "\n",
    "# Given significace level ∝ = 5% = 0.05\n",
    "# degree of freedom = (3-1) * (3-1) = 4\n",
    "\n",
    "# prob = 1-0.05 = 0.95\n",
    "p = 0.95\n",
    "dof = 4\n",
    "\n",
    "critical = chi2.ppf(p, dof)\n",
    "print('Critical value of Chi-Square is: ', critical)\n",
    "    "
   ]
  },
  {
   "cell_type": "markdown",
   "metadata": {},
   "source": [
    "### Conclusions\n",
    "    \n",
    "The criticial value of Chi-Square is: Χ^2 = 9.488 at 5% level of significance. <br>\n",
    "Our computed value of Chi-Square is: Χ^2 = 29.603 <br>\n",
    "\n",
    "So, computed value falls in rejection region. Hence we reject the Null Hypothesis. <br>\n",
    "Hence there is significant relationship between age of child and photograph preference."
   ]
  },
  {
   "cell_type": "markdown",
   "metadata": {},
   "source": [
    "### Problem Statement 21:  \n",
    " \n",
    "A study of conformity using the Asch paradigm involved two conditions: one where one confederate supported the true judgement and another where no confederate gave the correct response.\n",
    "\n",
    " \n",
    "| | Support | No Support | \n",
    "| ---- | ---- | ---- |\n",
    "| Conform | 18| 40 |\n",
    "| Not Conform| 32 | 10 |\n",
    "\n",
    "\n",
    "Is there a significant difference between the \"support\" and \"no support\" conditions in the frequency with which individuals are likely to conform? [Chi-Square = 19.87, with 1 df: 𝑝  < 0.05]. "
   ]
  },
  {
   "cell_type": "code",
   "execution_count": 23,
   "metadata": {},
   "outputs": [
    {
     "name": "stdout",
     "output_type": "stream",
     "text": [
      "Observed table: \n",
      "             Support  No Support\n",
      "Conform           18          40\n",
      "Not Conform       32          10 \n",
      "\n",
      "The expected list is:  [29.0, 21.0, 29.0, 21.0]\n",
      "Calculated Chi-Square value is:  19.868637110016422\n",
      "Critical value of Chi-Square is:  3.841458820694124\n"
     ]
    }
   ],
   "source": [
    "import pandas as pd\n",
    "import numpy as np\n",
    "from scipy.stats import chi2\n",
    "\n",
    "# creating view for Observed table\n",
    "\n",
    "Asch_Para = {'Support': [18, 32], 'No Support': [40, 10]}\n",
    "df_asch = pd.DataFrame(Asch_Para, columns = ['Support', 'No Support'], index = ['Conform', 'Not Conform'])\n",
    "print('Observed table: ')\n",
    "print(df_asch, \"\\n\")\n",
    "\n",
    "# H0: No significant difference between the 'support' and 'no support' conditions in the frequency.\n",
    "# H1: There is significant difference between the 'support' and 'no support' conditions in the frequency.\n",
    "\n",
    "#Now we need to create expected table for the above null hypothesis. Formula -> E = ((row total * column total) / grand total)\n",
    "\n",
    "Observed_asch = [18, 32, 40, 10]\n",
    "\n",
    "# Total for all combinations\n",
    "grand_Total = sum(Observed_asch)\n",
    "\n",
    "# Total 'support' / 'no support' for conform and not conform\n",
    "T_columns = df_asch.sum(axis=0)\n",
    "\n",
    "# Total conform and not conform\n",
    "T_rows = df_asch.sum(axis=1)\n",
    "\n",
    "# Now creating the expected list corresponding to the observed list\n",
    "\n",
    "def exp_list(T_columns, T_rows):\n",
    "    Expected_lst = []\n",
    "    for i in range(2):\n",
    "        for j in range(2):\n",
    "            res = (T_columns[i] * T_rows[j]) / grand_Total\n",
    "            Expected_lst.append(res)\n",
    "            \n",
    "    return Expected_lst\n",
    "\n",
    "Expected_asch = exp_list(T_columns, T_rows)\n",
    "print('The expected list is: ', Expected_asch)\n",
    "\n",
    "# Now applying Chi-Square independence formula on Observed and Expected list\n",
    "\n",
    "O_vals = np.array(Observed_asch) # observed value\n",
    "E_vals = np.array(Expected_asch) # expected value\n",
    "\n",
    "def chi_sqr(O_vals, E_vals):\n",
    "    results = (O_vals - E_vals)**2 # (O-E)**2\n",
    "    sum_sqr = 0\n",
    "    for ele in range(len(results)):\n",
    "        sum_sqr += (results[ele] / E_vals[ele])\n",
    "    return sum_sqr\n",
    "\n",
    "X_sqr = chi_sqr(O_vals, E_vals)\n",
    "\n",
    "print('Calculated Chi-Square value is: ', X_sqr)\n",
    "\n",
    "# Given significace level ∝ = 5% = 0.05\n",
    "# degree of freedom = (2-1) * (2-1) = 1\n",
    "\n",
    "# prob = 1-0.05 = 0.95\n",
    "p = 0.95\n",
    "dof = 1\n",
    "\n",
    "critical = chi2.ppf(p, dof)\n",
    "print('Critical value of Chi-Square is: ', critical)"
   ]
  },
  {
   "cell_type": "markdown",
   "metadata": {},
   "source": [
    "### Conclusions\n",
    "    \n",
    "The criticial value of Chi-Square is: Χ^2 = 3.841 at 5% level of significance. <br>\n",
    "Our computed value of Chi-Square is: Χ^2 = 19.87 <br>\n",
    "\n",
    "So, computed value falls in rejection region. Hence we reject the Null Hypothesis. <br>\n",
    "Hence there is significant difference between the 'support' and 'no support' conditions in the frequency.\n"
   ]
  },
  {
   "cell_type": "markdown",
   "metadata": {},
   "source": [
    "### Problem Statement 22:  \n",
    " \n",
    "We want to test whether short people differ with respect to their leadership qualities (Genghis Khan, Adolf Hitler and Napoleon were all stature-deprived, and how many midget MP's are there?) The following table shows the frequencies with which 43 short people and 52 tall people were categorized as \"leaders\", \"followers\" or as \"unclassifiable\". Is there a relationship between height and leadership qualities?  \n",
    "[Chi-Square = 10.71, with 2 df: 𝑝  < 0.01]. \n",
    "\n",
    "\n",
    "| | Height |  |\n",
    "| ---- | ---- | ---- |\n",
    "|  | Short| Tall | \n",
    "| Leader | 12| 32 | \n",
    "| Follower| 22 | 14 |\n",
    "|Unclassifiable|9|6|"
   ]
  },
  {
   "cell_type": "code",
   "execution_count": 24,
   "metadata": {},
   "outputs": [
    {
     "name": "stdout",
     "output_type": "stream",
     "text": [
      "Observed table: \n",
      "                Short  Tall\n",
      "Leader             12    32\n",
      "Follower           22    14\n",
      "Unclassifiable      9     6 \n",
      "\n",
      "The expected list is:  [19.91578947368421, 16.294736842105262, 6.7894736842105265, 24.08421052631579, 19.705263157894738, 8.210526315789474] \n",
      "\n",
      "Calculated Chi-Square value is:  10.712198008709638\n",
      "Critical value of Chi-Square is:  9.21034037197618\n"
     ]
    }
   ],
   "source": [
    "import pandas as pd\n",
    "import numpy as np\n",
    "from scipy.stats import chi2\n",
    "\n",
    "# creating view for Observed table\n",
    "\n",
    "lead_tab = {'Short': [12, 22, 9], 'Tall': [32, 14, 6]}\n",
    "df_frq = pd.DataFrame(lead_tab, columns = ['Short', 'Tall'], index = ['Leader', 'Follower', 'Unclassifiable'])\n",
    "print('Observed table: ')\n",
    "print(df_frq,\"\\n\")\n",
    "\n",
    "# H0: No relationship between height and leadership qualities.\n",
    "# H1: There is relationship between height and leadership qualities.\n",
    "\n",
    "#Now we need to create expected table for the above null hypothesis. Formula -> E = ((row total * column total) / grand total)\n",
    "\n",
    "Obsv_lst = [12, 22, 9, 32, 14, 6]\n",
    "\n",
    "# Total for all combinations\n",
    "grand_Total = sum(Obsv_lst)\n",
    "\n",
    "# Total 'short' / 'tall' column wise\n",
    "To_cls = df_frq.sum(axis=0)\n",
    "\n",
    "# Total leader / follower / unclassifiable row wise\n",
    "To_rows = df_frq.sum(axis=1)\n",
    "\n",
    "# Now creating the expected list corresponding to the observed list\n",
    "\n",
    "def exp_list(To_cls, To_rows):\n",
    "    Expected_lst = []\n",
    "    for i in range(2):\n",
    "        for j in range(3):\n",
    "            res = (To_cls[i] * To_rows[j]) / grand_Total\n",
    "            Expected_lst.append(res)\n",
    "            \n",
    "    return Expected_lst\n",
    "\n",
    "Expects_lst = exp_list(To_cls, To_rows)\n",
    "print('The expected list is: ', Expects_lst,\"\\n\")\n",
    "\n",
    "# Now applying Chi-Square independence formula on Observed and Expected list\n",
    "\n",
    "Ob_vals = np.array(Obsv_lst) # observed value\n",
    "Ex_vals = np.array(Expects_lst) # expected value\n",
    "\n",
    "def chi_sqr(Ob_vals, Ex_vals):\n",
    "    results = (Ob_vals - Ex_vals)**2 # (O-E)**2\n",
    "    sum_sqr = 0\n",
    "    for ele in range(len(results)):\n",
    "        sum_sqr += (results[ele] / Ex_vals[ele])\n",
    "    return sum_sqr\n",
    "\n",
    "X_sqr = chi_sqr(Ob_vals, Ex_vals)\n",
    "\n",
    "print('Calculated Chi-Square value is: ', X_sqr)\n",
    "\n",
    "# Given significace level ∝ = 1% = 0.01\n",
    "# degree of freedom = (2-1) * (3-1) = 2\n",
    "\n",
    "# prob = 1-0.01 = 0.99\n",
    "p = 0.99\n",
    "dof = 2\n",
    "\n",
    "critical = chi2.ppf(p, dof)\n",
    "print('Critical value of Chi-Square is: ', critical)"
   ]
  },
  {
   "cell_type": "markdown",
   "metadata": {},
   "source": [
    "### Conclusions\n",
    "    \n",
    "The criticial value of Chi-Square is: Χ^2 = 9.21 at 1% level of significance. <br>\n",
    "Our computed value of Chi-Square is: Χ^2 = 10.71 <br>\n",
    "\n",
    "So, computed value falls in rejection region. Hence we reject the Null Hypothesis. <br>\n",
    "Hence there is relationship between height and leadership qualitie"
   ]
  },
  {
   "cell_type": "markdown",
   "metadata": {},
   "source": [
    "#### Problem Statement 23:  \n",
    " \n",
    "Each respondent in the Current Population Survey of March 1993 was classified as employed, unemployed, or outside the labor force. The results for men in California age 35 to 44 can be cross-tabulated by marital status, as follows: \n",
    "\n",
    "| | Married | Widow, divorced or separated | Never Married|\n",
    "| ---- | ---- | ---- | ---|\n",
    "| Employed | 679| 103 | 114|\n",
    "| Unemployed| 63 | 10 | 20|\n",
    "|Not in labor force|42|18|25|\n",
    "\n",
    "Men of different marital status seem to have different distributions of labor force status. Or is this just chance variation? (you may assume the table results from a simple random sample.) "
   ]
  },
  {
   "cell_type": "code",
   "execution_count": 25,
   "metadata": {},
   "outputs": [
    {
     "name": "stdout",
     "output_type": "stream",
     "text": [
      "Observed table: \n",
      "                    Married  Widow, divorced or separated  Never Married\n",
      "Employed                679                           103            114\n",
      "Unemployed               63                            10             20\n",
      "Not in labor force       42                            18             25 \n",
      "\n",
      "The expected list is:  [654.0633147113595, 67.88826815642459, 62.04841713221602, 109.28864059590316, 11.343575418994414, 10.36778398510242, 132.64804469273744, 13.768156424581006, 12.583798882681565] \n",
      "\n",
      "Calculated Chi-Square value is:  31.61310319407798\n",
      "Critical value of Chi-Square is:  9.487729036781154\n"
     ]
    }
   ],
   "source": [
    "import pandas as pd\n",
    "import numpy as np\n",
    "from scipy.stats import chi2\n",
    "\n",
    "# creating view for Observed table\n",
    "\n",
    "population = {'Married': [679, 63, 42], 'Widow, divorced or separated': [103, 10, 18], 'Never Married' : [114,20,25]}\n",
    "df_surv = pd.DataFrame(population, columns = ['Married', 'Widow, divorced or separated', 'Never Married'], index = ['Employed', 'Unemployed', 'Not in labor force'])\n",
    "print('Observed table: ')\n",
    "print(df_surv,\"\\n\")\n",
    "\n",
    "# H0: No relationship between men of different marital status and different distribution of labor force status.\n",
    "# H1: There is relationship between men of different marital status and different distribution of labor force status.\n",
    "\n",
    "#Now we need to create expected table for the above null hypothesis. Formula -> E = ((row total * column total) / grand total)\n",
    "\n",
    "Obsv = [679, 63, 42, 103, 10, 18, 114, 20, 25]\n",
    "\n",
    "# Total for all combinations\n",
    "grand_Total = sum(Obsv)\n",
    "\n",
    "# Total 'married' / 'widow ...' / 'never married' column wise\n",
    "sum_cols = df_surv.sum(axis=0)\n",
    "\n",
    "# Total employed / unemployed / not in labor force row wise\n",
    "sum_rows = df_surv.sum(axis=1)\n",
    "\n",
    "# Now creating the expected list corresponding to the observed list\n",
    "\n",
    "def exp_lsts(sum_cols, sum_rows):\n",
    "    Expected_lst = []\n",
    "    for i in range(3):\n",
    "        for j in range(3):\n",
    "            res = (sum_cols[i] * sum_rows[j]) / grand_Total\n",
    "            Expected_lst.append(res)\n",
    "            \n",
    "    return Expected_lst\n",
    "\n",
    "expected_res = exp_lsts(sum_cols, sum_rows)\n",
    "print('The expected list is: ', expected_res, \"\\n\")\n",
    "\n",
    "# Now applying Chi-Square independence formula on Observed and Expected list\n",
    "\n",
    "Obs_vals = np.array(Obsv) # observed value\n",
    "Exp_vals = np.array(expected_res) # expected value\n",
    "\n",
    "def chi_sqr(Obs_vals, Exp_vals):\n",
    "    results = (Obs_vals - Exp_vals)**2 # (O-E)**2\n",
    "    sum_sqr = 0\n",
    "    for ele in range(len(results)):\n",
    "        sum_sqr += (results[ele] / Exp_vals[ele])\n",
    "    return sum_sqr\n",
    "\n",
    "X_sqre = chi_sqr(Obs_vals, Exp_vals)\n",
    "\n",
    "print('Calculated Chi-Square value is: ', X_sqre)\n",
    "\n",
    "# Given significace level ∝ = 5% = 0.05\n",
    "# degree of freedom = (3-1) * (3-1) = 4\n",
    "\n",
    "# prob = 1-0.05 = 0.95\n",
    "p = 0.95\n",
    "dof = 4\n",
    "\n",
    "critical = chi2.ppf(p, dof)\n",
    "print('Critical value of Chi-Square is: ', critical)"
   ]
  },
  {
   "cell_type": "markdown",
   "metadata": {},
   "source": [
    "#### Conclusions\n",
    "The criticial value of Chi-Square is: Χ^2 = 9.49 at 5% level of significance.\n",
    "Our computed value of Chi-Square is: Χ^2 = 31.61\n",
    "\n",
    "So, computed value falls in rejection region. Hence we reject the Null Hypothesis.\n",
    "Hence there is relationship between men of different marital status and different distribution of labor force status"
   ]
  },
  {
   "cell_type": "code",
   "execution_count": null,
   "metadata": {},
   "outputs": [],
   "source": []
  }
 ],
 "metadata": {
  "kernelspec": {
   "display_name": "Python 3",
   "language": "python",
   "name": "python3"
  },
  "language_info": {
   "codemirror_mode": {
    "name": "ipython",
    "version": 3
   },
   "file_extension": ".py",
   "mimetype": "text/x-python",
   "name": "python",
   "nbconvert_exporter": "python",
   "pygments_lexer": "ipython3",
   "version": "3.7.6"
  }
 },
 "nbformat": 4,
 "nbformat_minor": 2
}
